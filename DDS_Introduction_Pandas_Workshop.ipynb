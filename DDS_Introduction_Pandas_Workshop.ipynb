{
  "nbformat": 4,
  "nbformat_minor": 0,
  "metadata": {
    "colab": {
      "name": "DDS_Introduction_Pandas_Workshop.ipynb",
      "version": "0.3.2",
      "provenance": [],
      "collapsed_sections": [],
      "include_colab_link": true
    },
    "language_info": {
      "codemirror_mode": {
        "name": "ipython",
        "version": 3
      },
      "file_extension": ".py",
      "mimetype": "text/x-python",
      "name": "python",
      "nbconvert_exporter": "python",
      "pygments_lexer": "ipython3",
      "version": "3.6.5"
    },
    "kernelspec": {
      "display_name": "Python [default]",
      "language": "python",
      "name": "python3"
    }
  },
  "cells": [
    {
      "cell_type": "markdown",
      "metadata": {
        "id": "view-in-github",
        "colab_type": "text"
      },
      "source": [
        "<a href=\"https://colab.research.google.com/github/avanthika1302/DataHungryMe/blob/master/DDS_Introduction_Pandas_Workshop.ipynb\" target=\"_parent\"><img src=\"https://colab.research.google.com/assets/colab-badge.svg\" alt=\"Open In Colab\"/></a>"
      ]
    },
    {
      "cell_type": "markdown",
      "metadata": {
        "id": "bL9LXvuxW6so",
        "colab_type": "text"
      },
      "source": [
        "<center>\n",
        "<img src=\"https://drive.google.com/uc?export=view&id=1i1_Glu8nhZPHh9S5PSq16JIBmligAA_x\"  alt=\"drawing\" height=\"100\"/>\n",
        "<br><br>\n",
        " <img src=\"https://drive.google.com/uc?export=view&id=1C3xcWyRHizAnjfs1j_NZnYalapqQ-Lrq\"  alt=\"drawing\" height=\"150\"/>\n",
        "  \n",
        "</center>"
      ]
    },
    {
      "cell_type": "markdown",
      "metadata": {
        "id": "qak1bHD5WX7o",
        "colab_type": "text"
      },
      "source": [
        "# Introduction to Pandas Workshop\n",
        "\n",
        "## Jonathan Balaban and Joe Eddy\n",
        "\n",
        "---\n",
        "\n",
        "## Python\n",
        "- One of world's most popular languages, especially for Data Science\n",
        "- Design encourages simplicity and readability\n",
        "- Robust language that easily integrates with other software components\n",
        "- Object-oriented programming\n",
        "\n",
        "## Google Colab/Jupyter Notebooks\n",
        "- Executes Python code on the fly\n",
        "- Interactivity allows for instant feedback\n",
        "- Memory persists across cells\n",
        "- `shift+enter` to run cells\n",
        "- Use [markdown](https://blog.ghost.org/markdown/) (TEXT) mode for adding formatted text"
      ]
    },
    {
      "cell_type": "markdown",
      "metadata": {
        "id": "7jK67F71WX7p",
        "colab_type": "text"
      },
      "source": [
        "## Introduction to Pandas"
      ]
    },
    {
      "cell_type": "markdown",
      "metadata": {
        "id": "MU4RfVz6WX7q",
        "colab_type": "text"
      },
      "source": [
        "Pandas is a module in Python that is great for handling lots of data. Think of it as code-based Excel, allowing us to use spreadsheet functionality within a Data Science environment. We'll use it today to sort, reshape, and clean up data. \n",
        "\n",
        "> **From the Pandas documentation:**\n",
        ">\n",
        "> Some things that pandas does well:\n",
        ">\n",
        "> - Easy handling of **missing data** (represented as NaN) in floating point as well as non-floating point data\n",
        "- Size mutability: columns can be **inserted and deleted** from DataFrames and higher dimensional objects\n",
        "- Automatic and explicit **data alignment**: objects can be explicitly aligned to a set of labels, or the user can simply ignore the labels and let Series, DataFrame, etc. automatically align the data for you in computations\n",
        "- Powerful, flexible **group by** functionality to perform split-apply-combine operations on data sets, for both aggregating and transforming data\n",
        "- Make it **easy to convert** ragged, differently-indexed data in other Python and NumPy data structures into DataFrame objects\n",
        "- Intelligent **label-based slicing**, **fancy indexing**, and **subsetting** of large data sets\n",
        "- Intuitive **merging** and **joining** data sets\n",
        "- Flexible **reshaping** and **pivoting** of data sets\n",
        "- **Hierarchical labeling** of axes (possible to have multiple labels per tick)\n",
        "- **Robust IO tools** for loading data from flat files (CSV and delimited), Excel files, databases, and saving / loading data from the ultrafast HDF5 format\n",
        "- **Time-series** functionality: date range generation and frequency conversion, moving window statistics, moving window linear regressions, date shifting and lagging, etc.\n",
        "\n",
        "Let's get a sense of how it works with a test data set from a weather report."
      ]
    },
    {
      "cell_type": "code",
      "metadata": {
        "ExecuteTime": {
          "end_time": "2018-06-15T15:55:13.324009Z",
          "start_time": "2018-06-15T15:55:11.918149Z"
        },
        "id": "eq_oL1R8WX7r",
        "colab_type": "code",
        "colab": {}
      },
      "source": [
        "import pandas as pd # pd is by convention\n",
        "import numpy as np # as is np, always use these to make life easy\n",
        "\n",
        "import matplotlib.pyplot as plt\n",
        "import seaborn as sns\n",
        "\n",
        "# To Plot matplotlib figures inline on the notebook\n",
        "%matplotlib inline"
      ],
      "execution_count": 0,
      "outputs": []
    },
    {
      "cell_type": "markdown",
      "metadata": {
        "id": "KqKO-2pnWX7t",
        "colab_type": "text"
      },
      "source": [
        "The building blocks of pandas are called Series and DataFrames. A Dataframe is essentially a table, like shown below:"
      ]
    },
    {
      "cell_type": "markdown",
      "metadata": {
        "id": "nl4UDqBGWX7u",
        "colab_type": "text"
      },
      "source": [
        "![alt text](https://github.com/ultimatist/DDS/blob/master/images/dataframe.png?raw=true)"
      ]
    },
    {
      "cell_type": "markdown",
      "metadata": {
        "id": "N11myBhMWX7v",
        "colab_type": "text"
      },
      "source": [
        "Each row of the dataframe will be one specific record, and each column will be some aspect of that record. That will make more sense when we look at an example. Series are individual rows or columns (essentially if we break apart that dataframe into a single set of numbers). Let's look at that in action."
      ]
    },
    {
      "cell_type": "markdown",
      "metadata": {
        "id": "xt68zvi119BT",
        "colab_type": "text"
      },
      "source": [
        "### POLL\n",
        ">- When would using Pandas make sense?\n",
        "\n",
        "\n",
        ">- When might you not want to use Pandas?"
      ]
    },
    {
      "cell_type": "markdown",
      "metadata": {
        "id": "-zy60WTeWX7v",
        "colab_type": "text"
      },
      "source": [
        "### Reading Data\n",
        "\n",
        "To begin with, we're going to read in some data from a CSV."
      ]
    },
    {
      "cell_type": "code",
      "metadata": {
        "ExecuteTime": {
          "end_time": "2018-06-15T15:55:13.385387Z",
          "start_time": "2018-06-15T15:55:13.325932Z"
        },
        "id": "zhLDTPNBWX7w",
        "colab_type": "code",
        "colab": {
          "base_uri": "https://localhost:8080/",
          "height": 204
        },
        "outputId": "d253083c-79cd-47fe-d552-fd1c35bb9c00"
      },
      "source": [
        "weather = pd.read_csv('https://raw.githubusercontent.com/ultimatist/DDS/master/data/weather.csv')\n",
        "weather.head()"
      ],
      "execution_count": 2,
      "outputs": [
        {
          "output_type": "execute_result",
          "data": {
            "text/html": [
              "<div>\n",
              "<style scoped>\n",
              "    .dataframe tbody tr th:only-of-type {\n",
              "        vertical-align: middle;\n",
              "    }\n",
              "\n",
              "    .dataframe tbody tr th {\n",
              "        vertical-align: top;\n",
              "    }\n",
              "\n",
              "    .dataframe thead th {\n",
              "        text-align: right;\n",
              "    }\n",
              "</style>\n",
              "<table border=\"1\" class=\"dataframe\">\n",
              "  <thead>\n",
              "    <tr style=\"text-align: right;\">\n",
              "      <th></th>\n",
              "      <th>Date/Time</th>\n",
              "      <th>Temp (C)</th>\n",
              "      <th>Dew Point Temp (C)</th>\n",
              "      <th>Rel Hum (%)</th>\n",
              "      <th>Wind Spd (km/h)</th>\n",
              "      <th>Visibility (km)</th>\n",
              "      <th>Stn Press (kPa)</th>\n",
              "      <th>Weather</th>\n",
              "    </tr>\n",
              "  </thead>\n",
              "  <tbody>\n",
              "    <tr>\n",
              "      <th>0</th>\n",
              "      <td>2012-01-01 00:00:00</td>\n",
              "      <td>-1.8</td>\n",
              "      <td>-3.9</td>\n",
              "      <td>86</td>\n",
              "      <td>4</td>\n",
              "      <td>8.0</td>\n",
              "      <td>101.24</td>\n",
              "      <td>Fog</td>\n",
              "    </tr>\n",
              "    <tr>\n",
              "      <th>1</th>\n",
              "      <td>2012-01-01 01:00:00</td>\n",
              "      <td>-1.8</td>\n",
              "      <td>-3.7</td>\n",
              "      <td>87</td>\n",
              "      <td>4</td>\n",
              "      <td>8.0</td>\n",
              "      <td>101.24</td>\n",
              "      <td>Fog</td>\n",
              "    </tr>\n",
              "    <tr>\n",
              "      <th>2</th>\n",
              "      <td>2012-01-01 02:00:00</td>\n",
              "      <td>-1.8</td>\n",
              "      <td>-3.4</td>\n",
              "      <td>89</td>\n",
              "      <td>7</td>\n",
              "      <td>4.0</td>\n",
              "      <td>101.26</td>\n",
              "      <td>Freezing Drizzle,Fog</td>\n",
              "    </tr>\n",
              "    <tr>\n",
              "      <th>3</th>\n",
              "      <td>2012-01-01 03:00:00</td>\n",
              "      <td>-1.5</td>\n",
              "      <td>-3.2</td>\n",
              "      <td>88</td>\n",
              "      <td>6</td>\n",
              "      <td>4.0</td>\n",
              "      <td>101.27</td>\n",
              "      <td>Freezing Drizzle,Fog</td>\n",
              "    </tr>\n",
              "    <tr>\n",
              "      <th>4</th>\n",
              "      <td>2012-01-01 04:00:00</td>\n",
              "      <td>-1.5</td>\n",
              "      <td>-3.3</td>\n",
              "      <td>88</td>\n",
              "      <td>7</td>\n",
              "      <td>4.8</td>\n",
              "      <td>101.23</td>\n",
              "      <td>Fog</td>\n",
              "    </tr>\n",
              "  </tbody>\n",
              "</table>\n",
              "</div>"
            ],
            "text/plain": [
              "             Date/Time  Temp (C)  ...  Stn Press (kPa)               Weather\n",
              "0  2012-01-01 00:00:00      -1.8  ...           101.24                   Fog\n",
              "1  2012-01-01 01:00:00      -1.8  ...           101.24                   Fog\n",
              "2  2012-01-01 02:00:00      -1.8  ...           101.26  Freezing Drizzle,Fog\n",
              "3  2012-01-01 03:00:00      -1.5  ...           101.27  Freezing Drizzle,Fog\n",
              "4  2012-01-01 04:00:00      -1.5  ...           101.23                   Fog\n",
              "\n",
              "[5 rows x 8 columns]"
            ]
          },
          "metadata": {
            "tags": []
          },
          "execution_count": 2
        }
      ]
    },
    {
      "cell_type": "markdown",
      "metadata": {
        "id": "7Uau8Y74WX70",
        "colab_type": "text"
      },
      "source": [
        "Here we got our table, and it shows us that we're looking at the hourly weather at some point. We can see that the temperature was below freezing for each of the first four hours, that there was some fog, and that it was a little bit windy. We used `weather.head()` to show us just the first few rows. Otherwise, it would show us a HUGE amount of data. We can look at the last few rows with `weather.tail()`"
      ]
    },
    {
      "cell_type": "code",
      "metadata": {
        "ExecuteTime": {
          "end_time": "2018-06-15T15:55:14.709110Z",
          "start_time": "2018-06-15T15:55:14.696122Z"
        },
        "id": "PesqiszaWX70",
        "colab_type": "code",
        "colab": {
          "base_uri": "https://localhost:8080/",
          "height": 204
        },
        "outputId": "7a45e614-d8c8-4039-fde6-433adf03156e"
      },
      "source": [
        "weather.tail()"
      ],
      "execution_count": 3,
      "outputs": [
        {
          "output_type": "execute_result",
          "data": {
            "text/html": [
              "<div>\n",
              "<style scoped>\n",
              "    .dataframe tbody tr th:only-of-type {\n",
              "        vertical-align: middle;\n",
              "    }\n",
              "\n",
              "    .dataframe tbody tr th {\n",
              "        vertical-align: top;\n",
              "    }\n",
              "\n",
              "    .dataframe thead th {\n",
              "        text-align: right;\n",
              "    }\n",
              "</style>\n",
              "<table border=\"1\" class=\"dataframe\">\n",
              "  <thead>\n",
              "    <tr style=\"text-align: right;\">\n",
              "      <th></th>\n",
              "      <th>Date/Time</th>\n",
              "      <th>Temp (C)</th>\n",
              "      <th>Dew Point Temp (C)</th>\n",
              "      <th>Rel Hum (%)</th>\n",
              "      <th>Wind Spd (km/h)</th>\n",
              "      <th>Visibility (km)</th>\n",
              "      <th>Stn Press (kPa)</th>\n",
              "      <th>Weather</th>\n",
              "    </tr>\n",
              "  </thead>\n",
              "  <tbody>\n",
              "    <tr>\n",
              "      <th>8779</th>\n",
              "      <td>2012-12-31 19:00:00</td>\n",
              "      <td>0.1</td>\n",
              "      <td>-2.7</td>\n",
              "      <td>81</td>\n",
              "      <td>30</td>\n",
              "      <td>9.7</td>\n",
              "      <td>100.13</td>\n",
              "      <td>Snow</td>\n",
              "    </tr>\n",
              "    <tr>\n",
              "      <th>8780</th>\n",
              "      <td>2012-12-31 20:00:00</td>\n",
              "      <td>0.2</td>\n",
              "      <td>-2.4</td>\n",
              "      <td>83</td>\n",
              "      <td>24</td>\n",
              "      <td>9.7</td>\n",
              "      <td>100.03</td>\n",
              "      <td>Snow</td>\n",
              "    </tr>\n",
              "    <tr>\n",
              "      <th>8781</th>\n",
              "      <td>2012-12-31 21:00:00</td>\n",
              "      <td>-0.5</td>\n",
              "      <td>-1.5</td>\n",
              "      <td>93</td>\n",
              "      <td>28</td>\n",
              "      <td>4.8</td>\n",
              "      <td>99.95</td>\n",
              "      <td>Snow</td>\n",
              "    </tr>\n",
              "    <tr>\n",
              "      <th>8782</th>\n",
              "      <td>2012-12-31 22:00:00</td>\n",
              "      <td>-0.2</td>\n",
              "      <td>-1.8</td>\n",
              "      <td>89</td>\n",
              "      <td>28</td>\n",
              "      <td>9.7</td>\n",
              "      <td>99.91</td>\n",
              "      <td>Snow</td>\n",
              "    </tr>\n",
              "    <tr>\n",
              "      <th>8783</th>\n",
              "      <td>2012-12-31 23:00:00</td>\n",
              "      <td>0.0</td>\n",
              "      <td>-2.1</td>\n",
              "      <td>86</td>\n",
              "      <td>30</td>\n",
              "      <td>11.3</td>\n",
              "      <td>99.89</td>\n",
              "      <td>Snow</td>\n",
              "    </tr>\n",
              "  </tbody>\n",
              "</table>\n",
              "</div>"
            ],
            "text/plain": [
              "                Date/Time  Temp (C)  ...  Stn Press (kPa)  Weather\n",
              "8779  2012-12-31 19:00:00       0.1  ...           100.13     Snow\n",
              "8780  2012-12-31 20:00:00       0.2  ...           100.03     Snow\n",
              "8781  2012-12-31 21:00:00      -0.5  ...            99.95     Snow\n",
              "8782  2012-12-31 22:00:00      -0.2  ...            99.91     Snow\n",
              "8783  2012-12-31 23:00:00       0.0  ...            99.89     Snow\n",
              "\n",
              "[5 rows x 8 columns]"
            ]
          },
          "metadata": {
            "tags": []
          },
          "execution_count": 3
        }
      ]
    },
    {
      "cell_type": "markdown",
      "metadata": {
        "id": "YHB6cvBBWX74",
        "colab_type": "text"
      },
      "source": [
        "Now let's use a Pandas built-in function to learn a little about our data."
      ]
    },
    {
      "cell_type": "code",
      "metadata": {
        "ExecuteTime": {
          "end_time": "2018-06-15T15:55:15.474995Z",
          "start_time": "2018-06-15T15:55:15.461376Z"
        },
        "id": "s4X5vKTZWX74",
        "colab_type": "code",
        "colab": {
          "base_uri": "https://localhost:8080/",
          "height": 238
        },
        "outputId": "b365c936-92f7-4044-94ba-c8bdc46754a9"
      },
      "source": [
        "weather.info()"
      ],
      "execution_count": 4,
      "outputs": [
        {
          "output_type": "stream",
          "text": [
            "<class 'pandas.core.frame.DataFrame'>\n",
            "RangeIndex: 8784 entries, 0 to 8783\n",
            "Data columns (total 8 columns):\n",
            "Date/Time             8784 non-null object\n",
            "Temp (C)              8784 non-null float64\n",
            "Dew Point Temp (C)    8784 non-null float64\n",
            "Rel Hum (%)           8784 non-null int64\n",
            "Wind Spd (km/h)       8784 non-null int64\n",
            "Visibility (km)       8784 non-null float64\n",
            "Stn Press (kPa)       8784 non-null float64\n",
            "Weather               8784 non-null object\n",
            "dtypes: float64(4), int64(2), object(2)\n",
            "memory usage: 549.1+ KB\n"
          ],
          "name": "stdout"
        }
      ]
    },
    {
      "cell_type": "markdown",
      "metadata": {
        "id": "iTpMZSGl2USf",
        "colab_type": "text"
      },
      "source": [
        "### POLL\n",
        "\n",
        ">- Are these data types consistent with what we expect?"
      ]
    },
    {
      "cell_type": "markdown",
      "metadata": {
        "id": "ryaY5_b0WX77",
        "colab_type": "text"
      },
      "source": [
        "We can also look to see how much of our data makes sense by asking it to look at the numeric columns and give us some stats about them."
      ]
    },
    {
      "cell_type": "code",
      "metadata": {
        "ExecuteTime": {
          "end_time": "2018-06-15T15:55:17.641689Z",
          "start_time": "2018-06-15T15:55:17.601500Z"
        },
        "id": "pC7owR6kWX77",
        "colab_type": "code",
        "colab": {
          "base_uri": "https://localhost:8080/",
          "height": 297
        },
        "outputId": "20e2cf49-6131-41e5-b59a-8b97894320ba"
      },
      "source": [
        "weather.describe()"
      ],
      "execution_count": 5,
      "outputs": [
        {
          "output_type": "execute_result",
          "data": {
            "text/html": [
              "<div>\n",
              "<style scoped>\n",
              "    .dataframe tbody tr th:only-of-type {\n",
              "        vertical-align: middle;\n",
              "    }\n",
              "\n",
              "    .dataframe tbody tr th {\n",
              "        vertical-align: top;\n",
              "    }\n",
              "\n",
              "    .dataframe thead th {\n",
              "        text-align: right;\n",
              "    }\n",
              "</style>\n",
              "<table border=\"1\" class=\"dataframe\">\n",
              "  <thead>\n",
              "    <tr style=\"text-align: right;\">\n",
              "      <th></th>\n",
              "      <th>Temp (C)</th>\n",
              "      <th>Dew Point Temp (C)</th>\n",
              "      <th>Rel Hum (%)</th>\n",
              "      <th>Wind Spd (km/h)</th>\n",
              "      <th>Visibility (km)</th>\n",
              "      <th>Stn Press (kPa)</th>\n",
              "    </tr>\n",
              "  </thead>\n",
              "  <tbody>\n",
              "    <tr>\n",
              "      <th>count</th>\n",
              "      <td>8784.000000</td>\n",
              "      <td>8784.000000</td>\n",
              "      <td>8784.000000</td>\n",
              "      <td>8784.000000</td>\n",
              "      <td>8784.000000</td>\n",
              "      <td>8784.000000</td>\n",
              "    </tr>\n",
              "    <tr>\n",
              "      <th>mean</th>\n",
              "      <td>8.798144</td>\n",
              "      <td>2.555294</td>\n",
              "      <td>67.431694</td>\n",
              "      <td>14.945469</td>\n",
              "      <td>27.664447</td>\n",
              "      <td>101.051623</td>\n",
              "    </tr>\n",
              "    <tr>\n",
              "      <th>std</th>\n",
              "      <td>11.687883</td>\n",
              "      <td>10.883072</td>\n",
              "      <td>16.918881</td>\n",
              "      <td>8.688696</td>\n",
              "      <td>12.622688</td>\n",
              "      <td>0.844005</td>\n",
              "    </tr>\n",
              "    <tr>\n",
              "      <th>min</th>\n",
              "      <td>-23.300000</td>\n",
              "      <td>-28.500000</td>\n",
              "      <td>18.000000</td>\n",
              "      <td>0.000000</td>\n",
              "      <td>0.200000</td>\n",
              "      <td>97.520000</td>\n",
              "    </tr>\n",
              "    <tr>\n",
              "      <th>25%</th>\n",
              "      <td>0.100000</td>\n",
              "      <td>-5.900000</td>\n",
              "      <td>56.000000</td>\n",
              "      <td>9.000000</td>\n",
              "      <td>24.100000</td>\n",
              "      <td>100.560000</td>\n",
              "    </tr>\n",
              "    <tr>\n",
              "      <th>50%</th>\n",
              "      <td>9.300000</td>\n",
              "      <td>3.300000</td>\n",
              "      <td>68.000000</td>\n",
              "      <td>13.000000</td>\n",
              "      <td>25.000000</td>\n",
              "      <td>101.070000</td>\n",
              "    </tr>\n",
              "    <tr>\n",
              "      <th>75%</th>\n",
              "      <td>18.800000</td>\n",
              "      <td>11.800000</td>\n",
              "      <td>81.000000</td>\n",
              "      <td>20.000000</td>\n",
              "      <td>25.000000</td>\n",
              "      <td>101.590000</td>\n",
              "    </tr>\n",
              "    <tr>\n",
              "      <th>max</th>\n",
              "      <td>33.000000</td>\n",
              "      <td>24.400000</td>\n",
              "      <td>100.000000</td>\n",
              "      <td>83.000000</td>\n",
              "      <td>48.300000</td>\n",
              "      <td>103.650000</td>\n",
              "    </tr>\n",
              "  </tbody>\n",
              "</table>\n",
              "</div>"
            ],
            "text/plain": [
              "          Temp (C)  Dew Point Temp (C)  ...  Visibility (km)  Stn Press (kPa)\n",
              "count  8784.000000         8784.000000  ...      8784.000000      8784.000000\n",
              "mean      8.798144            2.555294  ...        27.664447       101.051623\n",
              "std      11.687883           10.883072  ...        12.622688         0.844005\n",
              "min     -23.300000          -28.500000  ...         0.200000        97.520000\n",
              "25%       0.100000           -5.900000  ...        24.100000       100.560000\n",
              "50%       9.300000            3.300000  ...        25.000000       101.070000\n",
              "75%      18.800000           11.800000  ...        25.000000       101.590000\n",
              "max      33.000000           24.400000  ...        48.300000       103.650000\n",
              "\n",
              "[8 rows x 6 columns]"
            ]
          },
          "metadata": {
            "tags": []
          },
          "execution_count": 5
        }
      ]
    },
    {
      "cell_type": "code",
      "metadata": {
        "ExecuteTime": {
          "end_time": "2018-06-15T15:55:19.050930Z",
          "start_time": "2018-06-15T15:55:19.045842Z"
        },
        "id": "K5euPiXAWX7-",
        "colab_type": "code",
        "colab": {
          "base_uri": "https://localhost:8080/",
          "height": 34
        },
        "outputId": "a83906e4-61c8-490a-e9f7-0b2faa92b6a6"
      },
      "source": [
        "weather.shape\n",
        "\n",
        "# why only six columns in describe?"
      ],
      "execution_count": 6,
      "outputs": [
        {
          "output_type": "execute_result",
          "data": {
            "text/plain": [
              "(8784, 8)"
            ]
          },
          "metadata": {
            "tags": []
          },
          "execution_count": 6
        }
      ]
    },
    {
      "cell_type": "markdown",
      "metadata": {
        "id": "Ogb_7cjSWX8B",
        "colab_type": "text"
      },
      "source": [
        ">Great, looks like these are all behaving relatively as expected! That's lovely. "
      ]
    },
    {
      "cell_type": "markdown",
      "metadata": {
        "id": "ISQqe2vLWX8C",
        "colab_type": "text"
      },
      "source": [
        "### Getting data from the dataframe\n",
        "\n",
        "Now let's learn how to grab some data from the DataFrame. Also, let's look at what a _Series_ is. To start with, let's grab a column from our data (note that `head` says, \"show me the first few rows of my dataframe, column, etc.\"):"
      ]
    },
    {
      "cell_type": "markdown",
      "metadata": {
        "id": "ZcAGdzwNTPVW",
        "colab_type": "text"
      },
      "source": [
        ""
      ]
    },
    {
      "cell_type": "code",
      "metadata": {
        "ExecuteTime": {
          "end_time": "2018-06-15T15:55:19.847990Z",
          "start_time": "2018-06-15T15:55:19.842182Z"
        },
        "id": "ft5gnwEdWX8C",
        "colab_type": "code",
        "colab": {
          "base_uri": "https://localhost:8080/",
          "height": 119
        },
        "outputId": "a4f98943-50ff-4e9e-8492-86ff0bbac6fd"
      },
      "source": [
        "weather['Temp (C)'].head()"
      ],
      "execution_count": 7,
      "outputs": [
        {
          "output_type": "execute_result",
          "data": {
            "text/plain": [
              "0   -1.8\n",
              "1   -1.8\n",
              "2   -1.8\n",
              "3   -1.5\n",
              "4   -1.5\n",
              "Name: Temp (C), dtype: float64"
            ]
          },
          "metadata": {
            "tags": []
          },
          "execution_count": 7
        }
      ]
    },
    {
      "cell_type": "markdown",
      "metadata": {
        "id": "c575_w5RWX8F",
        "colab_type": "text"
      },
      "source": [
        "This is a series! It has both the index (the left side) and the value. So we know which row it is and what the value is. That's pretty sweet. What can we do with a series? One really handy thing is getting the number of times a value shows up. Let's see that in action."
      ]
    },
    {
      "cell_type": "code",
      "metadata": {
        "ExecuteTime": {
          "end_time": "2018-06-15T15:55:21.368045Z",
          "start_time": "2018-06-15T15:55:21.357748Z"
        },
        "id": "GXzcjMupWX8F",
        "colab_type": "code",
        "colab": {
          "base_uri": "https://localhost:8080/",
          "height": 884
        },
        "outputId": "380ff556-de19-4a30-de4c-6348e7f9bf28"
      },
      "source": [
        "weather['Weather'].value_counts()"
      ],
      "execution_count": 8,
      "outputs": [
        {
          "output_type": "execute_result",
          "data": {
            "text/plain": [
              "Mainly Clear                               2106\n",
              "Mostly Cloudy                              2069\n",
              "Cloudy                                     1728\n",
              "Clear                                      1326\n",
              "Snow                                        390\n",
              "Rain                                        306\n",
              "Rain Showers                                188\n",
              "Fog                                         150\n",
              "Rain,Fog                                    116\n",
              "Drizzle,Fog                                  80\n",
              "Snow Showers                                 60\n",
              "Drizzle                                      41\n",
              "Snow,Fog                                     37\n",
              "Snow,Blowing Snow                            19\n",
              "Rain,Snow                                    18\n",
              "Haze                                         16\n",
              "Thunderstorms,Rain Showers                   16\n",
              "Drizzle,Snow,Fog                             15\n",
              "Freezing Rain                                14\n",
              "Freezing Drizzle,Snow                        11\n",
              "Freezing Drizzle                              7\n",
              "Snow,Ice Pellets                              6\n",
              "Freezing Drizzle,Fog                          6\n",
              "Snow,Haze                                     5\n",
              "Freezing Fog                                  4\n",
              "Moderate Snow                                 4\n",
              "Freezing Rain,Fog                             4\n",
              "Rain,Snow,Ice Pellets                         4\n",
              "Snow Showers,Fog                              4\n",
              "Rain,Haze                                     3\n",
              "Thunderstorms,Rain Showers,Fog                3\n",
              "Thunderstorms,Rain                            3\n",
              "Freezing Drizzle,Haze                         3\n",
              "Moderate Snow,Blowing Snow                    2\n",
              "Rain Showers,Snow Showers                     2\n",
              "Freezing Rain,Haze                            2\n",
              "Thunderstorms                                 2\n",
              "Drizzle,Snow                                  2\n",
              "Thunderstorms,Moderate Rain Showers,Fog       1\n",
              "Snow Pellets                                  1\n",
              "Rain Showers,Fog                              1\n",
              "Drizzle,Ice Pellets,Fog                       1\n",
              "Freezing Rain,Ice Pellets,Fog                 1\n",
              "Thunderstorms,Rain,Fog                        1\n",
              "Rain,Snow Grains                              1\n",
              "Moderate Rain,Fog                             1\n",
              "Freezing Rain,Snow Grains                     1\n",
              "Thunderstorms,Heavy Rain Showers              1\n",
              "Rain,Snow,Fog                                 1\n",
              "Rain,Ice Pellets                              1\n",
              "Name: Weather, dtype: int64"
            ]
          },
          "metadata": {
            "tags": []
          },
          "execution_count": 8
        }
      ]
    },
    {
      "cell_type": "markdown",
      "metadata": {
        "id": "RHk33kOdWX8H",
        "colab_type": "text"
      },
      "source": [
        "**Exercise 1:**\n",
        "\n",
        "What is the most common Relative Humidity Percentage?"
      ]
    },
    {
      "cell_type": "code",
      "metadata": {
        "id": "GIYjITFYWX8I",
        "colab_type": "code",
        "colab": {}
      },
      "source": [
        "# Hint: Value Counts"
      ],
      "execution_count": 0,
      "outputs": []
    },
    {
      "cell_type": "code",
      "metadata": {
        "id": "MQdb0EGtWX8K",
        "colab_type": "code",
        "colab": {
          "base_uri": "https://localhost:8080/",
          "height": 119
        },
        "outputId": "1b1cc39d-0916-4ea5-82bf-5c82f39c0c0b"
      },
      "source": [
        "weather['Rel Hum (%)'].value_counts().head()"
      ],
      "execution_count": 10,
      "outputs": [
        {
          "output_type": "execute_result",
          "data": {
            "text/plain": [
              "68    210\n",
              "83    202\n",
              "81    195\n",
              "71    194\n",
              "64    192\n",
              "Name: Rel Hum (%), dtype: int64"
            ]
          },
          "metadata": {
            "tags": []
          },
          "execution_count": 10
        }
      ]
    },
    {
      "cell_type": "markdown",
      "metadata": {
        "id": "4SyrgChEWX8L",
        "colab_type": "text"
      },
      "source": [
        "### Row Lookups"
      ]
    },
    {
      "cell_type": "markdown",
      "metadata": {
        "id": "xz3a8UgjWX8M",
        "colab_type": "text"
      },
      "source": [
        "Cool. Now how do we access rows? We have to play a little bit of pandas games to do so. We'll use `.iloc` to do the job. Let's demonstrate by grabbing the first (0th) row."
      ]
    },
    {
      "cell_type": "code",
      "metadata": {
        "ExecuteTime": {
          "end_time": "2018-06-08T21:42:57.706983Z",
          "start_time": "2018-06-08T21:42:57.697891Z"
        },
        "id": "5Q2lAhfJWX8N",
        "colab_type": "code",
        "colab": {
          "base_uri": "https://localhost:8080/",
          "height": 170
        },
        "outputId": "6916f4db-ea36-4e88-efd3-3928d7e95141"
      },
      "source": [
        "weather.iloc[0]"
      ],
      "execution_count": 12,
      "outputs": [
        {
          "output_type": "execute_result",
          "data": {
            "text/plain": [
              "Date/Time             2012-01-01 00:00:00\n",
              "Temp (C)                             -1.8\n",
              "Dew Point Temp (C)                   -3.9\n",
              "Rel Hum (%)                            86\n",
              "Wind Spd (km/h)                         4\n",
              "Visibility (km)                         8\n",
              "Stn Press (kPa)                    101.24\n",
              "Weather                               Fog\n",
              "Name: 0, dtype: object"
            ]
          },
          "metadata": {
            "tags": []
          },
          "execution_count": 12
        }
      ]
    },
    {
      "cell_type": "markdown",
      "metadata": {
        "id": "5Jls4WbsWX8Q",
        "colab_type": "text"
      },
      "source": [
        "We can get multiple rows by following Python's conventions like so:"
      ]
    },
    {
      "cell_type": "code",
      "metadata": {
        "ExecuteTime": {
          "end_time": "2018-06-08T21:42:58.131160Z",
          "start_time": "2018-06-08T21:42:58.115537Z"
        },
        "id": "tp2h26_2WX8R",
        "colab_type": "code",
        "colab": {
          "base_uri": "https://localhost:8080/",
          "height": 142
        },
        "outputId": "17979fdb-57bc-43b5-9b50-881447ebc7e4"
      },
      "source": [
        "weather.iloc[10:13]"
      ],
      "execution_count": 13,
      "outputs": [
        {
          "output_type": "execute_result",
          "data": {
            "text/html": [
              "<div>\n",
              "<style scoped>\n",
              "    .dataframe tbody tr th:only-of-type {\n",
              "        vertical-align: middle;\n",
              "    }\n",
              "\n",
              "    .dataframe tbody tr th {\n",
              "        vertical-align: top;\n",
              "    }\n",
              "\n",
              "    .dataframe thead th {\n",
              "        text-align: right;\n",
              "    }\n",
              "</style>\n",
              "<table border=\"1\" class=\"dataframe\">\n",
              "  <thead>\n",
              "    <tr style=\"text-align: right;\">\n",
              "      <th></th>\n",
              "      <th>Date/Time</th>\n",
              "      <th>Temp (C)</th>\n",
              "      <th>Dew Point Temp (C)</th>\n",
              "      <th>Rel Hum (%)</th>\n",
              "      <th>Wind Spd (km/h)</th>\n",
              "      <th>Visibility (km)</th>\n",
              "      <th>Stn Press (kPa)</th>\n",
              "      <th>Weather</th>\n",
              "    </tr>\n",
              "  </thead>\n",
              "  <tbody>\n",
              "    <tr>\n",
              "      <th>10</th>\n",
              "      <td>2012-01-01 10:00:00</td>\n",
              "      <td>-1.0</td>\n",
              "      <td>-2.3</td>\n",
              "      <td>91</td>\n",
              "      <td>9</td>\n",
              "      <td>1.2</td>\n",
              "      <td>101.15</td>\n",
              "      <td>Fog</td>\n",
              "    </tr>\n",
              "    <tr>\n",
              "      <th>11</th>\n",
              "      <td>2012-01-01 11:00:00</td>\n",
              "      <td>-0.5</td>\n",
              "      <td>-2.1</td>\n",
              "      <td>89</td>\n",
              "      <td>7</td>\n",
              "      <td>4.0</td>\n",
              "      <td>100.98</td>\n",
              "      <td>Fog</td>\n",
              "    </tr>\n",
              "    <tr>\n",
              "      <th>12</th>\n",
              "      <td>2012-01-01 12:00:00</td>\n",
              "      <td>-0.2</td>\n",
              "      <td>-2.0</td>\n",
              "      <td>88</td>\n",
              "      <td>9</td>\n",
              "      <td>4.8</td>\n",
              "      <td>100.79</td>\n",
              "      <td>Fog</td>\n",
              "    </tr>\n",
              "  </tbody>\n",
              "</table>\n",
              "</div>"
            ],
            "text/plain": [
              "              Date/Time  Temp (C)  ...  Stn Press (kPa)  Weather\n",
              "10  2012-01-01 10:00:00      -1.0  ...           101.15      Fog\n",
              "11  2012-01-01 11:00:00      -0.5  ...           100.98      Fog\n",
              "12  2012-01-01 12:00:00      -0.2  ...           100.79      Fog\n",
              "\n",
              "[3 rows x 8 columns]"
            ]
          },
          "metadata": {
            "tags": []
          },
          "execution_count": 13
        }
      ]
    },
    {
      "cell_type": "markdown",
      "metadata": {
        "id": "0Dxhb-MPWX8U",
        "colab_type": "text"
      },
      "source": [
        "We also might want to select multiple columns. We can do that like this:"
      ]
    },
    {
      "cell_type": "code",
      "metadata": {
        "ExecuteTime": {
          "end_time": "2018-06-08T21:42:59.045276Z",
          "start_time": "2018-06-08T21:42:59.034442Z"
        },
        "id": "_hYufyXOWX8U",
        "colab_type": "code",
        "colab": {
          "base_uri": "https://localhost:8080/",
          "height": 204
        },
        "outputId": "ffc24106-5b8e-4131-fb86-ac81b4e063aa"
      },
      "source": [
        "weather[['Temp (C)',\"Dew Point Temp (C)\"]].head()\n",
        "\n",
        "# note that type of quote doesn't matter"
      ],
      "execution_count": 15,
      "outputs": [
        {
          "output_type": "execute_result",
          "data": {
            "text/html": [
              "<div>\n",
              "<style scoped>\n",
              "    .dataframe tbody tr th:only-of-type {\n",
              "        vertical-align: middle;\n",
              "    }\n",
              "\n",
              "    .dataframe tbody tr th {\n",
              "        vertical-align: top;\n",
              "    }\n",
              "\n",
              "    .dataframe thead th {\n",
              "        text-align: right;\n",
              "    }\n",
              "</style>\n",
              "<table border=\"1\" class=\"dataframe\">\n",
              "  <thead>\n",
              "    <tr style=\"text-align: right;\">\n",
              "      <th></th>\n",
              "      <th>Temp (C)</th>\n",
              "      <th>Dew Point Temp (C)</th>\n",
              "    </tr>\n",
              "  </thead>\n",
              "  <tbody>\n",
              "    <tr>\n",
              "      <th>0</th>\n",
              "      <td>-1.8</td>\n",
              "      <td>-3.9</td>\n",
              "    </tr>\n",
              "    <tr>\n",
              "      <th>1</th>\n",
              "      <td>-1.8</td>\n",
              "      <td>-3.7</td>\n",
              "    </tr>\n",
              "    <tr>\n",
              "      <th>2</th>\n",
              "      <td>-1.8</td>\n",
              "      <td>-3.4</td>\n",
              "    </tr>\n",
              "    <tr>\n",
              "      <th>3</th>\n",
              "      <td>-1.5</td>\n",
              "      <td>-3.2</td>\n",
              "    </tr>\n",
              "    <tr>\n",
              "      <th>4</th>\n",
              "      <td>-1.5</td>\n",
              "      <td>-3.3</td>\n",
              "    </tr>\n",
              "  </tbody>\n",
              "</table>\n",
              "</div>"
            ],
            "text/plain": [
              "   Temp (C)  Dew Point Temp (C)\n",
              "0      -1.8                -3.9\n",
              "1      -1.8                -3.7\n",
              "2      -1.8                -3.4\n",
              "3      -1.5                -3.2\n",
              "4      -1.5                -3.3"
            ]
          },
          "metadata": {
            "tags": []
          },
          "execution_count": 15
        }
      ]
    },
    {
      "cell_type": "markdown",
      "metadata": {
        "id": "QTkXNq7FWX8X",
        "colab_type": "text"
      },
      "source": [
        "And what if we want to get rows and columns?"
      ]
    },
    {
      "cell_type": "code",
      "metadata": {
        "ExecuteTime": {
          "end_time": "2018-06-15T15:56:40.121254Z",
          "start_time": "2018-06-15T15:56:40.109419Z"
        },
        "id": "dW_Q09wgWX8Y",
        "colab_type": "code",
        "colab": {
          "base_uri": "https://localhost:8080/",
          "height": 235
        },
        "outputId": "cba4fbee-395e-4c1e-867a-c687d21d9de5"
      },
      "source": [
        "weather.loc[3:8, ['Temp (C)',\"Dew Point Temp (C)\"]]"
      ],
      "execution_count": 16,
      "outputs": [
        {
          "output_type": "execute_result",
          "data": {
            "text/html": [
              "<div>\n",
              "<style scoped>\n",
              "    .dataframe tbody tr th:only-of-type {\n",
              "        vertical-align: middle;\n",
              "    }\n",
              "\n",
              "    .dataframe tbody tr th {\n",
              "        vertical-align: top;\n",
              "    }\n",
              "\n",
              "    .dataframe thead th {\n",
              "        text-align: right;\n",
              "    }\n",
              "</style>\n",
              "<table border=\"1\" class=\"dataframe\">\n",
              "  <thead>\n",
              "    <tr style=\"text-align: right;\">\n",
              "      <th></th>\n",
              "      <th>Temp (C)</th>\n",
              "      <th>Dew Point Temp (C)</th>\n",
              "    </tr>\n",
              "  </thead>\n",
              "  <tbody>\n",
              "    <tr>\n",
              "      <th>3</th>\n",
              "      <td>-1.5</td>\n",
              "      <td>-3.2</td>\n",
              "    </tr>\n",
              "    <tr>\n",
              "      <th>4</th>\n",
              "      <td>-1.5</td>\n",
              "      <td>-3.3</td>\n",
              "    </tr>\n",
              "    <tr>\n",
              "      <th>5</th>\n",
              "      <td>-1.4</td>\n",
              "      <td>-3.3</td>\n",
              "    </tr>\n",
              "    <tr>\n",
              "      <th>6</th>\n",
              "      <td>-1.5</td>\n",
              "      <td>-3.1</td>\n",
              "    </tr>\n",
              "    <tr>\n",
              "      <th>7</th>\n",
              "      <td>-1.4</td>\n",
              "      <td>-3.6</td>\n",
              "    </tr>\n",
              "    <tr>\n",
              "      <th>8</th>\n",
              "      <td>-1.4</td>\n",
              "      <td>-3.6</td>\n",
              "    </tr>\n",
              "  </tbody>\n",
              "</table>\n",
              "</div>"
            ],
            "text/plain": [
              "   Temp (C)  Dew Point Temp (C)\n",
              "3      -1.5                -3.2\n",
              "4      -1.5                -3.3\n",
              "5      -1.4                -3.3\n",
              "6      -1.5                -3.1\n",
              "7      -1.4                -3.6\n",
              "8      -1.4                -3.6"
            ]
          },
          "metadata": {
            "tags": []
          },
          "execution_count": 16
        }
      ]
    },
    {
      "cell_type": "markdown",
      "metadata": {
        "id": "JpM-Sce-WX8c",
        "colab_type": "text"
      },
      "source": [
        "**Note that iloc and loc have slightly different outputs, we're not going to have time to fully explore the difference... just remember that they're slightly different! iloc means \"index location\" and loc means \"label location\"**."
      ]
    },
    {
      "cell_type": "code",
      "metadata": {
        "ExecuteTime": {
          "end_time": "2018-06-15T15:58:15.219966Z",
          "start_time": "2018-06-15T15:58:15.206713Z"
        },
        "id": "TxJ0TSXwWX8c",
        "colab_type": "code",
        "colab": {
          "base_uri": "https://localhost:8080/",
          "height": 142
        },
        "outputId": "ded3cead-ee2e-46ed-c257-99ee86852457"
      },
      "source": [
        "weather.iloc[3:6]"
      ],
      "execution_count": 17,
      "outputs": [
        {
          "output_type": "execute_result",
          "data": {
            "text/html": [
              "<div>\n",
              "<style scoped>\n",
              "    .dataframe tbody tr th:only-of-type {\n",
              "        vertical-align: middle;\n",
              "    }\n",
              "\n",
              "    .dataframe tbody tr th {\n",
              "        vertical-align: top;\n",
              "    }\n",
              "\n",
              "    .dataframe thead th {\n",
              "        text-align: right;\n",
              "    }\n",
              "</style>\n",
              "<table border=\"1\" class=\"dataframe\">\n",
              "  <thead>\n",
              "    <tr style=\"text-align: right;\">\n",
              "      <th></th>\n",
              "      <th>Date/Time</th>\n",
              "      <th>Temp (C)</th>\n",
              "      <th>Dew Point Temp (C)</th>\n",
              "      <th>Rel Hum (%)</th>\n",
              "      <th>Wind Spd (km/h)</th>\n",
              "      <th>Visibility (km)</th>\n",
              "      <th>Stn Press (kPa)</th>\n",
              "      <th>Weather</th>\n",
              "    </tr>\n",
              "  </thead>\n",
              "  <tbody>\n",
              "    <tr>\n",
              "      <th>3</th>\n",
              "      <td>2012-01-01 03:00:00</td>\n",
              "      <td>-1.5</td>\n",
              "      <td>-3.2</td>\n",
              "      <td>88</td>\n",
              "      <td>6</td>\n",
              "      <td>4.0</td>\n",
              "      <td>101.27</td>\n",
              "      <td>Freezing Drizzle,Fog</td>\n",
              "    </tr>\n",
              "    <tr>\n",
              "      <th>4</th>\n",
              "      <td>2012-01-01 04:00:00</td>\n",
              "      <td>-1.5</td>\n",
              "      <td>-3.3</td>\n",
              "      <td>88</td>\n",
              "      <td>7</td>\n",
              "      <td>4.8</td>\n",
              "      <td>101.23</td>\n",
              "      <td>Fog</td>\n",
              "    </tr>\n",
              "    <tr>\n",
              "      <th>5</th>\n",
              "      <td>2012-01-01 05:00:00</td>\n",
              "      <td>-1.4</td>\n",
              "      <td>-3.3</td>\n",
              "      <td>87</td>\n",
              "      <td>9</td>\n",
              "      <td>6.4</td>\n",
              "      <td>101.27</td>\n",
              "      <td>Fog</td>\n",
              "    </tr>\n",
              "  </tbody>\n",
              "</table>\n",
              "</div>"
            ],
            "text/plain": [
              "             Date/Time  Temp (C)  ...  Stn Press (kPa)               Weather\n",
              "3  2012-01-01 03:00:00      -1.5  ...           101.27  Freezing Drizzle,Fog\n",
              "4  2012-01-01 04:00:00      -1.5  ...           101.23                   Fog\n",
              "5  2012-01-01 05:00:00      -1.4  ...           101.27                   Fog\n",
              "\n",
              "[3 rows x 8 columns]"
            ]
          },
          "metadata": {
            "tags": []
          },
          "execution_count": 17
        }
      ]
    },
    {
      "cell_type": "code",
      "metadata": {
        "ExecuteTime": {
          "end_time": "2018-06-15T15:58:17.121647Z",
          "start_time": "2018-06-15T15:58:17.108001Z"
        },
        "id": "g-P0T3MvWX8f",
        "colab_type": "code",
        "colab": {
          "base_uri": "https://localhost:8080/",
          "height": 173
        },
        "outputId": "f6f34f08-4bca-4bf7-ab2a-73330097cc45"
      },
      "source": [
        "weather.loc[3:6]"
      ],
      "execution_count": 18,
      "outputs": [
        {
          "output_type": "execute_result",
          "data": {
            "text/html": [
              "<div>\n",
              "<style scoped>\n",
              "    .dataframe tbody tr th:only-of-type {\n",
              "        vertical-align: middle;\n",
              "    }\n",
              "\n",
              "    .dataframe tbody tr th {\n",
              "        vertical-align: top;\n",
              "    }\n",
              "\n",
              "    .dataframe thead th {\n",
              "        text-align: right;\n",
              "    }\n",
              "</style>\n",
              "<table border=\"1\" class=\"dataframe\">\n",
              "  <thead>\n",
              "    <tr style=\"text-align: right;\">\n",
              "      <th></th>\n",
              "      <th>Date/Time</th>\n",
              "      <th>Temp (C)</th>\n",
              "      <th>Dew Point Temp (C)</th>\n",
              "      <th>Rel Hum (%)</th>\n",
              "      <th>Wind Spd (km/h)</th>\n",
              "      <th>Visibility (km)</th>\n",
              "      <th>Stn Press (kPa)</th>\n",
              "      <th>Weather</th>\n",
              "    </tr>\n",
              "  </thead>\n",
              "  <tbody>\n",
              "    <tr>\n",
              "      <th>3</th>\n",
              "      <td>2012-01-01 03:00:00</td>\n",
              "      <td>-1.5</td>\n",
              "      <td>-3.2</td>\n",
              "      <td>88</td>\n",
              "      <td>6</td>\n",
              "      <td>4.0</td>\n",
              "      <td>101.27</td>\n",
              "      <td>Freezing Drizzle,Fog</td>\n",
              "    </tr>\n",
              "    <tr>\n",
              "      <th>4</th>\n",
              "      <td>2012-01-01 04:00:00</td>\n",
              "      <td>-1.5</td>\n",
              "      <td>-3.3</td>\n",
              "      <td>88</td>\n",
              "      <td>7</td>\n",
              "      <td>4.8</td>\n",
              "      <td>101.23</td>\n",
              "      <td>Fog</td>\n",
              "    </tr>\n",
              "    <tr>\n",
              "      <th>5</th>\n",
              "      <td>2012-01-01 05:00:00</td>\n",
              "      <td>-1.4</td>\n",
              "      <td>-3.3</td>\n",
              "      <td>87</td>\n",
              "      <td>9</td>\n",
              "      <td>6.4</td>\n",
              "      <td>101.27</td>\n",
              "      <td>Fog</td>\n",
              "    </tr>\n",
              "    <tr>\n",
              "      <th>6</th>\n",
              "      <td>2012-01-01 06:00:00</td>\n",
              "      <td>-1.5</td>\n",
              "      <td>-3.1</td>\n",
              "      <td>89</td>\n",
              "      <td>7</td>\n",
              "      <td>6.4</td>\n",
              "      <td>101.29</td>\n",
              "      <td>Fog</td>\n",
              "    </tr>\n",
              "  </tbody>\n",
              "</table>\n",
              "</div>"
            ],
            "text/plain": [
              "             Date/Time  Temp (C)  ...  Stn Press (kPa)               Weather\n",
              "3  2012-01-01 03:00:00      -1.5  ...           101.27  Freezing Drizzle,Fog\n",
              "4  2012-01-01 04:00:00      -1.5  ...           101.23                   Fog\n",
              "5  2012-01-01 05:00:00      -1.4  ...           101.27                   Fog\n",
              "6  2012-01-01 06:00:00      -1.5  ...           101.29                   Fog\n",
              "\n",
              "[4 rows x 8 columns]"
            ]
          },
          "metadata": {
            "tags": []
          },
          "execution_count": 18
        }
      ]
    },
    {
      "cell_type": "markdown",
      "metadata": {
        "id": "fXSvGXwG37fN",
        "colab_type": "text"
      },
      "source": [
        "### POLL\n",
        "\n",
        ">- If you could use `iloc` or `loc`, which is preferred? Can you provide examples?"
      ]
    },
    {
      "cell_type": "markdown",
      "metadata": {
        "id": "U-4yQIBoWX8i",
        "colab_type": "text"
      },
      "source": [
        "### Filtering"
      ]
    },
    {
      "cell_type": "markdown",
      "metadata": {
        "id": "RLApExjWWX8i",
        "colab_type": "text"
      },
      "source": [
        "What if we want to filter the data so we only see rows that match a certain criteria. We can do that by making a mask. A mask is a series that is trues and falses, based on some condition. So let's ask it to check if the temperature was -1.8, and if so mark the row as a true and if not, mark it as a false."
      ]
    },
    {
      "cell_type": "code",
      "metadata": {
        "ExecuteTime": {
          "end_time": "2018-06-08T21:43:01.430948Z",
          "start_time": "2018-06-08T21:43:01.422943Z"
        },
        "id": "mLqjw2fVWX8j",
        "colab_type": "code",
        "colab": {
          "base_uri": "https://localhost:8080/",
          "height": 119
        },
        "outputId": "77e33a55-01ab-4a25-c8a0-fbb2c1a03ac0"
      },
      "source": [
        "mask = (weather['Temp (C)'] == -1.8) \n",
        "mask.head()"
      ],
      "execution_count": 19,
      "outputs": [
        {
          "output_type": "execute_result",
          "data": {
            "text/plain": [
              "0     True\n",
              "1     True\n",
              "2     True\n",
              "3    False\n",
              "4    False\n",
              "Name: Temp (C), dtype: bool"
            ]
          },
          "metadata": {
            "tags": []
          },
          "execution_count": 19
        }
      ]
    },
    {
      "cell_type": "code",
      "metadata": {
        "ExecuteTime": {
          "end_time": "2018-06-08T21:43:01.761884Z",
          "start_time": "2018-06-08T21:43:01.750004Z"
        },
        "id": "O6r2IHlIWX8l",
        "colab_type": "code",
        "colab": {
          "base_uri": "https://localhost:8080/",
          "height": 119
        },
        "outputId": "f3202e77-ae6c-4ef2-ec59-66b35812658c"
      },
      "source": [
        "weather['Temp (C)'].head()"
      ],
      "execution_count": 20,
      "outputs": [
        {
          "output_type": "execute_result",
          "data": {
            "text/plain": [
              "0   -1.8\n",
              "1   -1.8\n",
              "2   -1.8\n",
              "3   -1.5\n",
              "4   -1.5\n",
              "Name: Temp (C), dtype: float64"
            ]
          },
          "metadata": {
            "tags": []
          },
          "execution_count": 20
        }
      ]
    },
    {
      "cell_type": "markdown",
      "metadata": {
        "id": "EkimQnGXWX8q",
        "colab_type": "text"
      },
      "source": [
        "Now we apply the mask and should see that only rows with that temperature remain!"
      ]
    },
    {
      "cell_type": "code",
      "metadata": {
        "ExecuteTime": {
          "end_time": "2018-06-08T21:43:02.452792Z",
          "start_time": "2018-06-08T21:43:02.435474Z"
        },
        "id": "NyNmGA0kWX8q",
        "colab_type": "code",
        "colab": {
          "base_uri": "https://localhost:8080/",
          "height": 359
        },
        "outputId": "3c2be705-c6dd-493c-ab2f-ea888c0cbf51"
      },
      "source": [
        "weather_test = weather[mask] \n",
        "weather_test.head(10)"
      ],
      "execution_count": 21,
      "outputs": [
        {
          "output_type": "execute_result",
          "data": {
            "text/html": [
              "<div>\n",
              "<style scoped>\n",
              "    .dataframe tbody tr th:only-of-type {\n",
              "        vertical-align: middle;\n",
              "    }\n",
              "\n",
              "    .dataframe tbody tr th {\n",
              "        vertical-align: top;\n",
              "    }\n",
              "\n",
              "    .dataframe thead th {\n",
              "        text-align: right;\n",
              "    }\n",
              "</style>\n",
              "<table border=\"1\" class=\"dataframe\">\n",
              "  <thead>\n",
              "    <tr style=\"text-align: right;\">\n",
              "      <th></th>\n",
              "      <th>Date/Time</th>\n",
              "      <th>Temp (C)</th>\n",
              "      <th>Dew Point Temp (C)</th>\n",
              "      <th>Rel Hum (%)</th>\n",
              "      <th>Wind Spd (km/h)</th>\n",
              "      <th>Visibility (km)</th>\n",
              "      <th>Stn Press (kPa)</th>\n",
              "      <th>Weather</th>\n",
              "    </tr>\n",
              "  </thead>\n",
              "  <tbody>\n",
              "    <tr>\n",
              "      <th>0</th>\n",
              "      <td>2012-01-01 00:00:00</td>\n",
              "      <td>-1.8</td>\n",
              "      <td>-3.9</td>\n",
              "      <td>86</td>\n",
              "      <td>4</td>\n",
              "      <td>8.0</td>\n",
              "      <td>101.24</td>\n",
              "      <td>Fog</td>\n",
              "    </tr>\n",
              "    <tr>\n",
              "      <th>1</th>\n",
              "      <td>2012-01-01 01:00:00</td>\n",
              "      <td>-1.8</td>\n",
              "      <td>-3.7</td>\n",
              "      <td>87</td>\n",
              "      <td>4</td>\n",
              "      <td>8.0</td>\n",
              "      <td>101.24</td>\n",
              "      <td>Fog</td>\n",
              "    </tr>\n",
              "    <tr>\n",
              "      <th>2</th>\n",
              "      <td>2012-01-01 02:00:00</td>\n",
              "      <td>-1.8</td>\n",
              "      <td>-3.4</td>\n",
              "      <td>89</td>\n",
              "      <td>7</td>\n",
              "      <td>4.0</td>\n",
              "      <td>101.26</td>\n",
              "      <td>Freezing Drizzle,Fog</td>\n",
              "    </tr>\n",
              "    <tr>\n",
              "      <th>164</th>\n",
              "      <td>2012-01-07 20:00:00</td>\n",
              "      <td>-1.8</td>\n",
              "      <td>-3.7</td>\n",
              "      <td>87</td>\n",
              "      <td>4</td>\n",
              "      <td>9.7</td>\n",
              "      <td>100.48</td>\n",
              "      <td>Snow</td>\n",
              "    </tr>\n",
              "    <tr>\n",
              "      <th>682</th>\n",
              "      <td>2012-01-29 10:00:00</td>\n",
              "      <td>-1.8</td>\n",
              "      <td>-8.3</td>\n",
              "      <td>61</td>\n",
              "      <td>24</td>\n",
              "      <td>24.1</td>\n",
              "      <td>100.87</td>\n",
              "      <td>Mostly Cloudy</td>\n",
              "    </tr>\n",
              "    <tr>\n",
              "      <th>927</th>\n",
              "      <td>2012-02-08 15:00:00</td>\n",
              "      <td>-1.8</td>\n",
              "      <td>-12.8</td>\n",
              "      <td>43</td>\n",
              "      <td>32</td>\n",
              "      <td>48.3</td>\n",
              "      <td>101.45</td>\n",
              "      <td>Mainly Clear</td>\n",
              "    </tr>\n",
              "    <tr>\n",
              "      <th>1081</th>\n",
              "      <td>2012-02-15 01:00:00</td>\n",
              "      <td>-1.8</td>\n",
              "      <td>-5.2</td>\n",
              "      <td>78</td>\n",
              "      <td>4</td>\n",
              "      <td>25.0</td>\n",
              "      <td>101.31</td>\n",
              "      <td>Cloudy</td>\n",
              "    </tr>\n",
              "    <tr>\n",
              "      <th>1216</th>\n",
              "      <td>2012-02-20 16:00:00</td>\n",
              "      <td>-1.8</td>\n",
              "      <td>-8.5</td>\n",
              "      <td>60</td>\n",
              "      <td>20</td>\n",
              "      <td>48.3</td>\n",
              "      <td>102.06</td>\n",
              "      <td>Mainly Clear</td>\n",
              "    </tr>\n",
              "    <tr>\n",
              "      <th>1298</th>\n",
              "      <td>2012-02-24 02:00:00</td>\n",
              "      <td>-1.8</td>\n",
              "      <td>-5.4</td>\n",
              "      <td>76</td>\n",
              "      <td>0</td>\n",
              "      <td>25.0</td>\n",
              "      <td>100.20</td>\n",
              "      <td>Clear</td>\n",
              "    </tr>\n",
              "    <tr>\n",
              "      <th>1328</th>\n",
              "      <td>2012-02-25 08:00:00</td>\n",
              "      <td>-1.8</td>\n",
              "      <td>-3.2</td>\n",
              "      <td>90</td>\n",
              "      <td>32</td>\n",
              "      <td>1.2</td>\n",
              "      <td>98.20</td>\n",
              "      <td>Snow,Blowing Snow</td>\n",
              "    </tr>\n",
              "  </tbody>\n",
              "</table>\n",
              "</div>"
            ],
            "text/plain": [
              "                Date/Time  Temp (C)  ...  Stn Press (kPa)               Weather\n",
              "0     2012-01-01 00:00:00      -1.8  ...           101.24                   Fog\n",
              "1     2012-01-01 01:00:00      -1.8  ...           101.24                   Fog\n",
              "2     2012-01-01 02:00:00      -1.8  ...           101.26  Freezing Drizzle,Fog\n",
              "164   2012-01-07 20:00:00      -1.8  ...           100.48                  Snow\n",
              "682   2012-01-29 10:00:00      -1.8  ...           100.87         Mostly Cloudy\n",
              "927   2012-02-08 15:00:00      -1.8  ...           101.45          Mainly Clear\n",
              "1081  2012-02-15 01:00:00      -1.8  ...           101.31                Cloudy\n",
              "1216  2012-02-20 16:00:00      -1.8  ...           102.06          Mainly Clear\n",
              "1298  2012-02-24 02:00:00      -1.8  ...           100.20                 Clear\n",
              "1328  2012-02-25 08:00:00      -1.8  ...            98.20     Snow,Blowing Snow\n",
              "\n",
              "[10 rows x 8 columns]"
            ]
          },
          "metadata": {
            "tags": []
          },
          "execution_count": 21
        }
      ]
    },
    {
      "cell_type": "markdown",
      "metadata": {
        "collapsed": true,
        "id": "fd3W_MMkWX8s",
        "colab_type": "text"
      },
      "source": [
        "What if we want to match multiple conditions? Let's do a double filter:"
      ]
    },
    {
      "cell_type": "code",
      "metadata": {
        "ExecuteTime": {
          "end_time": "2018-06-08T21:43:04.194201Z",
          "start_time": "2018-06-08T21:43:04.179887Z"
        },
        "id": "9jt-6rutWX8t",
        "colab_type": "code",
        "colab": {
          "base_uri": "https://localhost:8080/",
          "height": 142
        },
        "outputId": "0475006f-e479-48a3-8c43-000ed227a25b"
      },
      "source": [
        "mask = (weather['Temp (C)'] == -1.8) & (weather['Visibility (km)'] == 8.0)\n",
        "weather[mask]"
      ],
      "execution_count": 22,
      "outputs": [
        {
          "output_type": "execute_result",
          "data": {
            "text/html": [
              "<div>\n",
              "<style scoped>\n",
              "    .dataframe tbody tr th:only-of-type {\n",
              "        vertical-align: middle;\n",
              "    }\n",
              "\n",
              "    .dataframe tbody tr th {\n",
              "        vertical-align: top;\n",
              "    }\n",
              "\n",
              "    .dataframe thead th {\n",
              "        text-align: right;\n",
              "    }\n",
              "</style>\n",
              "<table border=\"1\" class=\"dataframe\">\n",
              "  <thead>\n",
              "    <tr style=\"text-align: right;\">\n",
              "      <th></th>\n",
              "      <th>Date/Time</th>\n",
              "      <th>Temp (C)</th>\n",
              "      <th>Dew Point Temp (C)</th>\n",
              "      <th>Rel Hum (%)</th>\n",
              "      <th>Wind Spd (km/h)</th>\n",
              "      <th>Visibility (km)</th>\n",
              "      <th>Stn Press (kPa)</th>\n",
              "      <th>Weather</th>\n",
              "    </tr>\n",
              "  </thead>\n",
              "  <tbody>\n",
              "    <tr>\n",
              "      <th>0</th>\n",
              "      <td>2012-01-01 00:00:00</td>\n",
              "      <td>-1.8</td>\n",
              "      <td>-3.9</td>\n",
              "      <td>86</td>\n",
              "      <td>4</td>\n",
              "      <td>8.0</td>\n",
              "      <td>101.24</td>\n",
              "      <td>Fog</td>\n",
              "    </tr>\n",
              "    <tr>\n",
              "      <th>1</th>\n",
              "      <td>2012-01-01 01:00:00</td>\n",
              "      <td>-1.8</td>\n",
              "      <td>-3.7</td>\n",
              "      <td>87</td>\n",
              "      <td>4</td>\n",
              "      <td>8.0</td>\n",
              "      <td>101.24</td>\n",
              "      <td>Fog</td>\n",
              "    </tr>\n",
              "    <tr>\n",
              "      <th>7778</th>\n",
              "      <td>2012-11-20 02:00:00</td>\n",
              "      <td>-1.8</td>\n",
              "      <td>-3.5</td>\n",
              "      <td>88</td>\n",
              "      <td>6</td>\n",
              "      <td>8.0</td>\n",
              "      <td>102.08</td>\n",
              "      <td>Fog</td>\n",
              "    </tr>\n",
              "  </tbody>\n",
              "</table>\n",
              "</div>"
            ],
            "text/plain": [
              "                Date/Time  Temp (C)  ...  Stn Press (kPa)  Weather\n",
              "0     2012-01-01 00:00:00      -1.8  ...           101.24      Fog\n",
              "1     2012-01-01 01:00:00      -1.8  ...           101.24      Fog\n",
              "7778  2012-11-20 02:00:00      -1.8  ...           102.08      Fog\n",
              "\n",
              "[3 rows x 8 columns]"
            ]
          },
          "metadata": {
            "tags": []
          },
          "execution_count": 22
        }
      ]
    },
    {
      "cell_type": "markdown",
      "metadata": {
        "id": "89ZSUe_jWX8v",
        "colab_type": "text"
      },
      "source": [
        "**Exercise 2:**\n",
        "\n",
        "Apply a new filter to select only the hours where the temperature is above 25C and the humidity is at or above 80%. How many hours are like this?"
      ]
    },
    {
      "cell_type": "code",
      "metadata": {
        "id": "gKpRqlkYWX8v",
        "colab_type": "code",
        "colab": {}
      },
      "source": [
        "# Hint: create a filter called mask, then apply it to the dataframe"
      ],
      "execution_count": 0,
      "outputs": []
    },
    {
      "cell_type": "code",
      "metadata": {
        "id": "T7etYiQ9WX8x",
        "colab_type": "code",
        "colab": {
          "base_uri": "https://localhost:8080/",
          "height": 221
        },
        "outputId": "8defb32a-e968-47c1-d4f6-d6ea99883fc9"
      },
      "source": [
        "mask1 = (weather['Temp (C)']>=25.0) & (weather['Rel Hum (%)'] >= 80)\n",
        "print(\"Number of rows = \",weather[mask1].shape[0])\n",
        "weather[mask1]"
      ],
      "execution_count": 27,
      "outputs": [
        {
          "output_type": "stream",
          "text": [
            "Number of rows =  5\n"
          ],
          "name": "stdout"
        },
        {
          "output_type": "execute_result",
          "data": {
            "text/html": [
              "<div>\n",
              "<style scoped>\n",
              "    .dataframe tbody tr th:only-of-type {\n",
              "        vertical-align: middle;\n",
              "    }\n",
              "\n",
              "    .dataframe tbody tr th {\n",
              "        vertical-align: top;\n",
              "    }\n",
              "\n",
              "    .dataframe thead th {\n",
              "        text-align: right;\n",
              "    }\n",
              "</style>\n",
              "<table border=\"1\" class=\"dataframe\">\n",
              "  <thead>\n",
              "    <tr style=\"text-align: right;\">\n",
              "      <th></th>\n",
              "      <th>Date/Time</th>\n",
              "      <th>Temp (C)</th>\n",
              "      <th>Dew Point Temp (C)</th>\n",
              "      <th>Rel Hum (%)</th>\n",
              "      <th>Wind Spd (km/h)</th>\n",
              "      <th>Visibility (km)</th>\n",
              "      <th>Stn Press (kPa)</th>\n",
              "      <th>Weather</th>\n",
              "    </tr>\n",
              "  </thead>\n",
              "  <tbody>\n",
              "    <tr>\n",
              "      <th>4766</th>\n",
              "      <td>2012-07-17 14:00:00</td>\n",
              "      <td>25.5</td>\n",
              "      <td>23.1</td>\n",
              "      <td>87</td>\n",
              "      <td>17</td>\n",
              "      <td>6.4</td>\n",
              "      <td>99.65</td>\n",
              "      <td>Thunderstorms,Rain Showers</td>\n",
              "    </tr>\n",
              "    <tr>\n",
              "      <th>4767</th>\n",
              "      <td>2012-07-17 15:00:00</td>\n",
              "      <td>25.8</td>\n",
              "      <td>22.0</td>\n",
              "      <td>80</td>\n",
              "      <td>4</td>\n",
              "      <td>24.1</td>\n",
              "      <td>99.69</td>\n",
              "      <td>Cloudy</td>\n",
              "    </tr>\n",
              "    <tr>\n",
              "      <th>4769</th>\n",
              "      <td>2012-07-17 17:00:00</td>\n",
              "      <td>25.9</td>\n",
              "      <td>22.2</td>\n",
              "      <td>80</td>\n",
              "      <td>7</td>\n",
              "      <td>24.1</td>\n",
              "      <td>99.83</td>\n",
              "      <td>Cloudy</td>\n",
              "    </tr>\n",
              "    <tr>\n",
              "      <th>5221</th>\n",
              "      <td>2012-08-05 13:00:00</td>\n",
              "      <td>25.2</td>\n",
              "      <td>23.0</td>\n",
              "      <td>88</td>\n",
              "      <td>24</td>\n",
              "      <td>12.9</td>\n",
              "      <td>100.40</td>\n",
              "      <td>Rain Showers</td>\n",
              "    </tr>\n",
              "    <tr>\n",
              "      <th>5226</th>\n",
              "      <td>2012-08-05 18:00:00</td>\n",
              "      <td>25.0</td>\n",
              "      <td>22.0</td>\n",
              "      <td>83</td>\n",
              "      <td>22</td>\n",
              "      <td>19.3</td>\n",
              "      <td>100.28</td>\n",
              "      <td>Thunderstorms,Rain Showers</td>\n",
              "    </tr>\n",
              "  </tbody>\n",
              "</table>\n",
              "</div>"
            ],
            "text/plain": [
              "                Date/Time  ...                     Weather\n",
              "4766  2012-07-17 14:00:00  ...  Thunderstorms,Rain Showers\n",
              "4767  2012-07-17 15:00:00  ...                      Cloudy\n",
              "4769  2012-07-17 17:00:00  ...                      Cloudy\n",
              "5221  2012-08-05 13:00:00  ...                Rain Showers\n",
              "5226  2012-08-05 18:00:00  ...  Thunderstorms,Rain Showers\n",
              "\n",
              "[5 rows x 8 columns]"
            ]
          },
          "metadata": {
            "tags": []
          },
          "execution_count": 27
        }
      ]
    },
    {
      "cell_type": "code",
      "metadata": {
        "id": "1P2tuJW0ZF08",
        "colab_type": "code",
        "colab": {
          "base_uri": "https://localhost:8080/",
          "height": 376
        },
        "outputId": "0a84e80f-1754-4b8e-8212-e1ed477622c1"
      },
      "source": [
        "mask1 = (weather['Temp (C)']>=25.0) | (weather['Rel Hum (%)'] >= 80)\n",
        "print(\"Number of rows = \",weather[mask1].shape[0])\n",
        "weather[mask1].head(10)"
      ],
      "execution_count": 32,
      "outputs": [
        {
          "output_type": "stream",
          "text": [
            "Number of rows =  3124\n"
          ],
          "name": "stdout"
        },
        {
          "output_type": "execute_result",
          "data": {
            "text/html": [
              "<div>\n",
              "<style scoped>\n",
              "    .dataframe tbody tr th:only-of-type {\n",
              "        vertical-align: middle;\n",
              "    }\n",
              "\n",
              "    .dataframe tbody tr th {\n",
              "        vertical-align: top;\n",
              "    }\n",
              "\n",
              "    .dataframe thead th {\n",
              "        text-align: right;\n",
              "    }\n",
              "</style>\n",
              "<table border=\"1\" class=\"dataframe\">\n",
              "  <thead>\n",
              "    <tr style=\"text-align: right;\">\n",
              "      <th></th>\n",
              "      <th>Date/Time</th>\n",
              "      <th>Temp (C)</th>\n",
              "      <th>Dew Point Temp (C)</th>\n",
              "      <th>Rel Hum (%)</th>\n",
              "      <th>Wind Spd (km/h)</th>\n",
              "      <th>Visibility (km)</th>\n",
              "      <th>Stn Press (kPa)</th>\n",
              "      <th>Weather</th>\n",
              "    </tr>\n",
              "  </thead>\n",
              "  <tbody>\n",
              "    <tr>\n",
              "      <th>0</th>\n",
              "      <td>2012-01-01 00:00:00</td>\n",
              "      <td>-1.8</td>\n",
              "      <td>-3.9</td>\n",
              "      <td>86</td>\n",
              "      <td>4</td>\n",
              "      <td>8.0</td>\n",
              "      <td>101.24</td>\n",
              "      <td>Fog</td>\n",
              "    </tr>\n",
              "    <tr>\n",
              "      <th>1</th>\n",
              "      <td>2012-01-01 01:00:00</td>\n",
              "      <td>-1.8</td>\n",
              "      <td>-3.7</td>\n",
              "      <td>87</td>\n",
              "      <td>4</td>\n",
              "      <td>8.0</td>\n",
              "      <td>101.24</td>\n",
              "      <td>Fog</td>\n",
              "    </tr>\n",
              "    <tr>\n",
              "      <th>2</th>\n",
              "      <td>2012-01-01 02:00:00</td>\n",
              "      <td>-1.8</td>\n",
              "      <td>-3.4</td>\n",
              "      <td>89</td>\n",
              "      <td>7</td>\n",
              "      <td>4.0</td>\n",
              "      <td>101.26</td>\n",
              "      <td>Freezing Drizzle,Fog</td>\n",
              "    </tr>\n",
              "    <tr>\n",
              "      <th>3</th>\n",
              "      <td>2012-01-01 03:00:00</td>\n",
              "      <td>-1.5</td>\n",
              "      <td>-3.2</td>\n",
              "      <td>88</td>\n",
              "      <td>6</td>\n",
              "      <td>4.0</td>\n",
              "      <td>101.27</td>\n",
              "      <td>Freezing Drizzle,Fog</td>\n",
              "    </tr>\n",
              "    <tr>\n",
              "      <th>4</th>\n",
              "      <td>2012-01-01 04:00:00</td>\n",
              "      <td>-1.5</td>\n",
              "      <td>-3.3</td>\n",
              "      <td>88</td>\n",
              "      <td>7</td>\n",
              "      <td>4.8</td>\n",
              "      <td>101.23</td>\n",
              "      <td>Fog</td>\n",
              "    </tr>\n",
              "    <tr>\n",
              "      <th>5</th>\n",
              "      <td>2012-01-01 05:00:00</td>\n",
              "      <td>-1.4</td>\n",
              "      <td>-3.3</td>\n",
              "      <td>87</td>\n",
              "      <td>9</td>\n",
              "      <td>6.4</td>\n",
              "      <td>101.27</td>\n",
              "      <td>Fog</td>\n",
              "    </tr>\n",
              "    <tr>\n",
              "      <th>6</th>\n",
              "      <td>2012-01-01 06:00:00</td>\n",
              "      <td>-1.5</td>\n",
              "      <td>-3.1</td>\n",
              "      <td>89</td>\n",
              "      <td>7</td>\n",
              "      <td>6.4</td>\n",
              "      <td>101.29</td>\n",
              "      <td>Fog</td>\n",
              "    </tr>\n",
              "    <tr>\n",
              "      <th>7</th>\n",
              "      <td>2012-01-01 07:00:00</td>\n",
              "      <td>-1.4</td>\n",
              "      <td>-3.6</td>\n",
              "      <td>85</td>\n",
              "      <td>7</td>\n",
              "      <td>8.0</td>\n",
              "      <td>101.26</td>\n",
              "      <td>Fog</td>\n",
              "    </tr>\n",
              "    <tr>\n",
              "      <th>8</th>\n",
              "      <td>2012-01-01 08:00:00</td>\n",
              "      <td>-1.4</td>\n",
              "      <td>-3.6</td>\n",
              "      <td>85</td>\n",
              "      <td>9</td>\n",
              "      <td>8.0</td>\n",
              "      <td>101.23</td>\n",
              "      <td>Fog</td>\n",
              "    </tr>\n",
              "    <tr>\n",
              "      <th>9</th>\n",
              "      <td>2012-01-01 09:00:00</td>\n",
              "      <td>-1.3</td>\n",
              "      <td>-3.1</td>\n",
              "      <td>88</td>\n",
              "      <td>15</td>\n",
              "      <td>4.0</td>\n",
              "      <td>101.20</td>\n",
              "      <td>Fog</td>\n",
              "    </tr>\n",
              "  </tbody>\n",
              "</table>\n",
              "</div>"
            ],
            "text/plain": [
              "             Date/Time  Temp (C)  ...  Stn Press (kPa)               Weather\n",
              "0  2012-01-01 00:00:00      -1.8  ...           101.24                   Fog\n",
              "1  2012-01-01 01:00:00      -1.8  ...           101.24                   Fog\n",
              "2  2012-01-01 02:00:00      -1.8  ...           101.26  Freezing Drizzle,Fog\n",
              "3  2012-01-01 03:00:00      -1.5  ...           101.27  Freezing Drizzle,Fog\n",
              "4  2012-01-01 04:00:00      -1.5  ...           101.23                   Fog\n",
              "5  2012-01-01 05:00:00      -1.4  ...           101.27                   Fog\n",
              "6  2012-01-01 06:00:00      -1.5  ...           101.29                   Fog\n",
              "7  2012-01-01 07:00:00      -1.4  ...           101.26                   Fog\n",
              "8  2012-01-01 08:00:00      -1.4  ...           101.23                   Fog\n",
              "9  2012-01-01 09:00:00      -1.3  ...           101.20                   Fog\n",
              "\n",
              "[10 rows x 8 columns]"
            ]
          },
          "metadata": {
            "tags": []
          },
          "execution_count": 32
        }
      ]
    },
    {
      "cell_type": "markdown",
      "metadata": {
        "id": "r5GeDHjdWX8z",
        "colab_type": "text"
      },
      "source": [
        "### Doing Stats with Pandas"
      ]
    },
    {
      "cell_type": "markdown",
      "metadata": {
        "id": "N33dfx4uWX8z",
        "colab_type": "text"
      },
      "source": [
        "Pandas also lets us do neat things like measuring statistics about our data. Let's look at the average temperature throughout the year."
      ]
    },
    {
      "cell_type": "code",
      "metadata": {
        "ExecuteTime": {
          "end_time": "2018-06-08T21:43:04.869491Z",
          "start_time": "2018-06-08T21:43:04.864047Z"
        },
        "id": "dwedgR9DWX80",
        "colab_type": "code",
        "colab": {
          "base_uri": "https://localhost:8080/",
          "height": 34
        },
        "outputId": "ce4f5e63-efc0-4a81-ecfe-90d53401d50d"
      },
      "source": [
        "weather['Temp (C)'].mean()"
      ],
      "execution_count": 29,
      "outputs": [
        {
          "output_type": "execute_result",
          "data": {
            "text/plain": [
              "8.79814435336981"
            ]
          },
          "metadata": {
            "tags": []
          },
          "execution_count": 29
        }
      ]
    },
    {
      "cell_type": "markdown",
      "metadata": {
        "id": "XettQrmwWX83",
        "colab_type": "text"
      },
      "source": [
        "Or find the max or min temperature:"
      ]
    },
    {
      "cell_type": "code",
      "metadata": {
        "ExecuteTime": {
          "end_time": "2018-06-08T21:43:05.644524Z",
          "start_time": "2018-06-08T21:43:05.639157Z"
        },
        "id": "_GmlxdT_WX83",
        "colab_type": "code",
        "colab": {
          "base_uri": "https://localhost:8080/",
          "height": 34
        },
        "outputId": "be438c15-4777-4902-c6e2-2a8fa21b2026"
      },
      "source": [
        "print(weather['Temp (C)'].max())"
      ],
      "execution_count": 30,
      "outputs": [
        {
          "output_type": "stream",
          "text": [
            "33.0\n"
          ],
          "name": "stdout"
        }
      ]
    },
    {
      "cell_type": "code",
      "metadata": {
        "ExecuteTime": {
          "end_time": "2018-06-08T21:43:05.995282Z",
          "start_time": "2018-06-08T21:43:05.987288Z"
        },
        "id": "zdN9ctFyWX85",
        "colab_type": "code",
        "colab": {
          "base_uri": "https://localhost:8080/",
          "height": 34
        },
        "outputId": "5166b356-234c-4139-c238-afe42654aef7"
      },
      "source": [
        "print(weather['Temp (C)'].min())"
      ],
      "execution_count": 31,
      "outputs": [
        {
          "output_type": "stream",
          "text": [
            "-23.3\n"
          ],
          "name": "stdout"
        }
      ]
    },
    {
      "cell_type": "markdown",
      "metadata": {
        "id": "JHtppB7bWX88",
        "colab_type": "text"
      },
      "source": [
        "**Exercise 3:**\n",
        "\n",
        "Let's combine filtering and stats. Find the average wind speed for hours that are less than 10C."
      ]
    },
    {
      "cell_type": "code",
      "metadata": {
        "id": "x0LyfwLfWX89",
        "colab_type": "code",
        "colab": {}
      },
      "source": [
        "# Hint: Create the filter, apply it to the frame, then calculate something on the new dataframe"
      ],
      "execution_count": 0,
      "outputs": []
    },
    {
      "cell_type": "code",
      "metadata": {
        "id": "c_6Oj-FtWX8-",
        "colab_type": "code",
        "colab": {
          "base_uri": "https://localhost:8080/",
          "height": 34
        },
        "outputId": "57dd6dc5-5367-4000-848e-5b7b9e11878f"
      },
      "source": [
        "mask3 = (weather['Temp (C)']<10.0)\n",
        "weather_ss = weather[mask3]\n",
        "weather_ss['Wind Spd (km/h)'].mean()"
      ],
      "execution_count": 33,
      "outputs": [
        {
          "output_type": "execute_result",
          "data": {
            "text/plain": [
              "15.734191258043044"
            ]
          },
          "metadata": {
            "tags": []
          },
          "execution_count": 33
        }
      ]
    },
    {
      "cell_type": "markdown",
      "metadata": {
        "id": "26eWaz01WX9A",
        "colab_type": "text"
      },
      "source": [
        "### Making new columns"
      ]
    },
    {
      "cell_type": "markdown",
      "metadata": {
        "id": "PC8nxY45WX9B",
        "colab_type": "text"
      },
      "source": [
        "Pandas also allows us to create columns that are mixtures of other columns. Let's make a column that is \"visibility as a percentage of the maximum visibility\"."
      ]
    },
    {
      "cell_type": "code",
      "metadata": {
        "ExecuteTime": {
          "end_time": "2018-06-08T21:43:14.404398Z",
          "start_time": "2018-06-08T21:43:14.387998Z"
        },
        "id": "nfoIizWKWX9B",
        "colab_type": "code",
        "colab": {
          "base_uri": "https://localhost:8080/",
          "height": 204
        },
        "outputId": "2b37a5d8-2b25-4ba1-a4a3-7cfcfc87815b"
      },
      "source": [
        "max_vis = weather['Visibility (km)'].max()\n",
        "weather['percent_visibility (%)'] = (weather['Visibility (km)']/max_vis)*100\n",
        "weather.head()"
      ],
      "execution_count": 36,
      "outputs": [
        {
          "output_type": "execute_result",
          "data": {
            "text/html": [
              "<div>\n",
              "<style scoped>\n",
              "    .dataframe tbody tr th:only-of-type {\n",
              "        vertical-align: middle;\n",
              "    }\n",
              "\n",
              "    .dataframe tbody tr th {\n",
              "        vertical-align: top;\n",
              "    }\n",
              "\n",
              "    .dataframe thead th {\n",
              "        text-align: right;\n",
              "    }\n",
              "</style>\n",
              "<table border=\"1\" class=\"dataframe\">\n",
              "  <thead>\n",
              "    <tr style=\"text-align: right;\">\n",
              "      <th></th>\n",
              "      <th>Date/Time</th>\n",
              "      <th>Temp (C)</th>\n",
              "      <th>Dew Point Temp (C)</th>\n",
              "      <th>Rel Hum (%)</th>\n",
              "      <th>Wind Spd (km/h)</th>\n",
              "      <th>Visibility (km)</th>\n",
              "      <th>Stn Press (kPa)</th>\n",
              "      <th>Weather</th>\n",
              "      <th>percent_visibility</th>\n",
              "      <th>percent_visibility (%)</th>\n",
              "    </tr>\n",
              "  </thead>\n",
              "  <tbody>\n",
              "    <tr>\n",
              "      <th>0</th>\n",
              "      <td>2012-01-01 00:00:00</td>\n",
              "      <td>-1.8</td>\n",
              "      <td>-3.9</td>\n",
              "      <td>86</td>\n",
              "      <td>4</td>\n",
              "      <td>8.0</td>\n",
              "      <td>101.24</td>\n",
              "      <td>Fog</td>\n",
              "      <td>16.563147</td>\n",
              "      <td>16.563147</td>\n",
              "    </tr>\n",
              "    <tr>\n",
              "      <th>1</th>\n",
              "      <td>2012-01-01 01:00:00</td>\n",
              "      <td>-1.8</td>\n",
              "      <td>-3.7</td>\n",
              "      <td>87</td>\n",
              "      <td>4</td>\n",
              "      <td>8.0</td>\n",
              "      <td>101.24</td>\n",
              "      <td>Fog</td>\n",
              "      <td>16.563147</td>\n",
              "      <td>16.563147</td>\n",
              "    </tr>\n",
              "    <tr>\n",
              "      <th>2</th>\n",
              "      <td>2012-01-01 02:00:00</td>\n",
              "      <td>-1.8</td>\n",
              "      <td>-3.4</td>\n",
              "      <td>89</td>\n",
              "      <td>7</td>\n",
              "      <td>4.0</td>\n",
              "      <td>101.26</td>\n",
              "      <td>Freezing Drizzle,Fog</td>\n",
              "      <td>8.281573</td>\n",
              "      <td>8.281573</td>\n",
              "    </tr>\n",
              "    <tr>\n",
              "      <th>3</th>\n",
              "      <td>2012-01-01 03:00:00</td>\n",
              "      <td>-1.5</td>\n",
              "      <td>-3.2</td>\n",
              "      <td>88</td>\n",
              "      <td>6</td>\n",
              "      <td>4.0</td>\n",
              "      <td>101.27</td>\n",
              "      <td>Freezing Drizzle,Fog</td>\n",
              "      <td>8.281573</td>\n",
              "      <td>8.281573</td>\n",
              "    </tr>\n",
              "    <tr>\n",
              "      <th>4</th>\n",
              "      <td>2012-01-01 04:00:00</td>\n",
              "      <td>-1.5</td>\n",
              "      <td>-3.3</td>\n",
              "      <td>88</td>\n",
              "      <td>7</td>\n",
              "      <td>4.8</td>\n",
              "      <td>101.23</td>\n",
              "      <td>Fog</td>\n",
              "      <td>9.937888</td>\n",
              "      <td>9.937888</td>\n",
              "    </tr>\n",
              "  </tbody>\n",
              "</table>\n",
              "</div>"
            ],
            "text/plain": [
              "             Date/Time  Temp (C)  ...  percent_visibility  percent_visibility (%)\n",
              "0  2012-01-01 00:00:00      -1.8  ...           16.563147               16.563147\n",
              "1  2012-01-01 01:00:00      -1.8  ...           16.563147               16.563147\n",
              "2  2012-01-01 02:00:00      -1.8  ...            8.281573                8.281573\n",
              "3  2012-01-01 03:00:00      -1.5  ...            8.281573                8.281573\n",
              "4  2012-01-01 04:00:00      -1.5  ...            9.937888                9.937888\n",
              "\n",
              "[5 rows x 10 columns]"
            ]
          },
          "metadata": {
            "tags": []
          },
          "execution_count": 36
        }
      ]
    },
    {
      "cell_type": "markdown",
      "metadata": {
        "id": "oA4zDyBCWX9D",
        "colab_type": "text"
      },
      "source": [
        "**Exercise 4**\n",
        "\n",
        "Let's convert temperature to Farenheit and create a new column to store that. The conversion to degrees F is done by multiplying the temperature in C by 1.8, then adding 32. Store this in a column called `Temp (F)`. If you've done it right, the first conversion should go from `-1.8C` to `28.76F` in a new column."
      ]
    },
    {
      "cell_type": "code",
      "metadata": {
        "id": "ouY9RxKUWX9D",
        "colab_type": "code",
        "colab": {}
      },
      "source": [
        "# Hint: You can multiply a column by a number, and add numbers to it"
      ],
      "execution_count": 0,
      "outputs": []
    },
    {
      "cell_type": "code",
      "metadata": {
        "id": "NNJL1S6AWX9F",
        "colab_type": "code",
        "colab": {}
      },
      "source": [
        "weather['Temp (F)'] = (weather['Temp (C)']*1.8)+32"
      ],
      "execution_count": 0,
      "outputs": []
    },
    {
      "cell_type": "code",
      "metadata": {
        "id": "_WZogjzhbi52",
        "colab_type": "code",
        "colab": {
          "base_uri": "https://localhost:8080/",
          "height": 204
        },
        "outputId": "2a998e7f-9ba0-4365-c6eb-1bc018ae0940"
      },
      "source": [
        "weather.head()"
      ],
      "execution_count": 39,
      "outputs": [
        {
          "output_type": "execute_result",
          "data": {
            "text/html": [
              "<div>\n",
              "<style scoped>\n",
              "    .dataframe tbody tr th:only-of-type {\n",
              "        vertical-align: middle;\n",
              "    }\n",
              "\n",
              "    .dataframe tbody tr th {\n",
              "        vertical-align: top;\n",
              "    }\n",
              "\n",
              "    .dataframe thead th {\n",
              "        text-align: right;\n",
              "    }\n",
              "</style>\n",
              "<table border=\"1\" class=\"dataframe\">\n",
              "  <thead>\n",
              "    <tr style=\"text-align: right;\">\n",
              "      <th></th>\n",
              "      <th>Date/Time</th>\n",
              "      <th>Temp (C)</th>\n",
              "      <th>Dew Point Temp (C)</th>\n",
              "      <th>Rel Hum (%)</th>\n",
              "      <th>Wind Spd (km/h)</th>\n",
              "      <th>Visibility (km)</th>\n",
              "      <th>Stn Press (kPa)</th>\n",
              "      <th>Weather</th>\n",
              "      <th>percent_visibility</th>\n",
              "      <th>percent_visibility (%)</th>\n",
              "      <th>Temp (F)</th>\n",
              "    </tr>\n",
              "  </thead>\n",
              "  <tbody>\n",
              "    <tr>\n",
              "      <th>0</th>\n",
              "      <td>2012-01-01 00:00:00</td>\n",
              "      <td>-1.8</td>\n",
              "      <td>-3.9</td>\n",
              "      <td>86</td>\n",
              "      <td>4</td>\n",
              "      <td>8.0</td>\n",
              "      <td>101.24</td>\n",
              "      <td>Fog</td>\n",
              "      <td>16.563147</td>\n",
              "      <td>16.563147</td>\n",
              "      <td>28.76</td>\n",
              "    </tr>\n",
              "    <tr>\n",
              "      <th>1</th>\n",
              "      <td>2012-01-01 01:00:00</td>\n",
              "      <td>-1.8</td>\n",
              "      <td>-3.7</td>\n",
              "      <td>87</td>\n",
              "      <td>4</td>\n",
              "      <td>8.0</td>\n",
              "      <td>101.24</td>\n",
              "      <td>Fog</td>\n",
              "      <td>16.563147</td>\n",
              "      <td>16.563147</td>\n",
              "      <td>28.76</td>\n",
              "    </tr>\n",
              "    <tr>\n",
              "      <th>2</th>\n",
              "      <td>2012-01-01 02:00:00</td>\n",
              "      <td>-1.8</td>\n",
              "      <td>-3.4</td>\n",
              "      <td>89</td>\n",
              "      <td>7</td>\n",
              "      <td>4.0</td>\n",
              "      <td>101.26</td>\n",
              "      <td>Freezing Drizzle,Fog</td>\n",
              "      <td>8.281573</td>\n",
              "      <td>8.281573</td>\n",
              "      <td>28.76</td>\n",
              "    </tr>\n",
              "    <tr>\n",
              "      <th>3</th>\n",
              "      <td>2012-01-01 03:00:00</td>\n",
              "      <td>-1.5</td>\n",
              "      <td>-3.2</td>\n",
              "      <td>88</td>\n",
              "      <td>6</td>\n",
              "      <td>4.0</td>\n",
              "      <td>101.27</td>\n",
              "      <td>Freezing Drizzle,Fog</td>\n",
              "      <td>8.281573</td>\n",
              "      <td>8.281573</td>\n",
              "      <td>29.30</td>\n",
              "    </tr>\n",
              "    <tr>\n",
              "      <th>4</th>\n",
              "      <td>2012-01-01 04:00:00</td>\n",
              "      <td>-1.5</td>\n",
              "      <td>-3.3</td>\n",
              "      <td>88</td>\n",
              "      <td>7</td>\n",
              "      <td>4.8</td>\n",
              "      <td>101.23</td>\n",
              "      <td>Fog</td>\n",
              "      <td>9.937888</td>\n",
              "      <td>9.937888</td>\n",
              "      <td>29.30</td>\n",
              "    </tr>\n",
              "  </tbody>\n",
              "</table>\n",
              "</div>"
            ],
            "text/plain": [
              "             Date/Time  Temp (C)  ...  percent_visibility (%)  Temp (F)\n",
              "0  2012-01-01 00:00:00      -1.8  ...               16.563147     28.76\n",
              "1  2012-01-01 01:00:00      -1.8  ...               16.563147     28.76\n",
              "2  2012-01-01 02:00:00      -1.8  ...                8.281573     28.76\n",
              "3  2012-01-01 03:00:00      -1.5  ...                8.281573     29.30\n",
              "4  2012-01-01 04:00:00      -1.5  ...                9.937888     29.30\n",
              "\n",
              "[5 rows x 11 columns]"
            ]
          },
          "metadata": {
            "tags": []
          },
          "execution_count": 39
        }
      ]
    },
    {
      "cell_type": "markdown",
      "metadata": {
        "id": "PuBM6Ed9WX9J",
        "colab_type": "text"
      },
      "source": [
        "### Plotting with Pandas"
      ]
    },
    {
      "cell_type": "markdown",
      "metadata": {
        "id": "42BlPgvlWX9K",
        "colab_type": "text"
      },
      "source": [
        "The last part of pandas we want to explore today is plotting. Let's plot a histogram of temperature over the year."
      ]
    },
    {
      "cell_type": "code",
      "metadata": {
        "ExecuteTime": {
          "end_time": "2018-06-15T19:16:04.169635Z",
          "start_time": "2018-06-15T19:16:03.996632Z"
        },
        "id": "-NauMmltWX9K",
        "colab_type": "code",
        "colab": {
          "base_uri": "https://localhost:8080/",
          "height": 283
        },
        "outputId": "3e0a1792-34a6-49cf-f361-7bb2b3119034"
      },
      "source": [
        "weather['Temp (C)'].plot.hist()\n",
        "plt.xlabel(\"Temperature (C)\");"
      ],
      "execution_count": 40,
      "outputs": [
        {
          "output_type": "display_data",
          "data": {
            "image/png": "[encoded data removed]",
            "text/plain": [
              "<Figure size 432x288 with 1 Axes>"
            ]
          },
          "metadata": {
            "tags": []
          }
        }
      ]
    },
    {
      "cell_type": "markdown",
      "metadata": {
        "id": "5ZbpShcz3n2m",
        "colab_type": "text"
      },
      "source": [
        "### POLL\n",
        "\n",
        "> - Is this a good visual?\n",
        "\n",
        ">- How could it be improved?"
      ]
    },
    {
      "cell_type": "markdown",
      "metadata": {
        "id": "BMbz26btWX9P",
        "colab_type": "text"
      },
      "source": [
        "What about weather over time? Let's do a line plot of the temperature."
      ]
    },
    {
      "cell_type": "code",
      "metadata": {
        "ExecuteTime": {
          "end_time": "2018-06-15T19:16:05.489625Z",
          "start_time": "2018-06-15T19:16:05.322033Z"
        },
        "id": "OSZA2lMcWX9P",
        "colab_type": "code",
        "colab": {
          "base_uri": "https://localhost:8080/",
          "height": 269
        },
        "outputId": "8c24ee0f-41ed-4ff1-e2fb-008cda63a747"
      },
      "source": [
        "weather['Temp (C)'].plot.line();"
      ],
      "execution_count": 42,
      "outputs": [
        {
          "output_type": "display_data",
          "data": {
            "image/png": "[encoded data removed]",
            "text/plain": [
              "<Figure size 432x288 with 1 Axes>"
            ]
          },
          "metadata": {
            "tags": []
          }
        }
      ]
    },
    {
      "cell_type": "markdown",
      "metadata": {
        "id": "kQ1ltTK2WX9R",
        "colab_type": "text"
      },
      "source": [
        "Neat! Except, that doesn't show us the date on the X-Axis. That's because right now, we don't have the date as the index. Let's fix that."
      ]
    },
    {
      "cell_type": "code",
      "metadata": {
        "id": "3Gcos7pGdb3Y",
        "colab_type": "code",
        "colab": {}
      },
      "source": [
        "#weather['DT'] = pd.to_datetime(weather['Date/Time'])\n",
        "#weather = weather.set_index()"
      ],
      "execution_count": 0,
      "outputs": []
    },
    {
      "cell_type": "code",
      "metadata": {
        "ExecuteTime": {
          "end_time": "2018-06-15T19:16:07.329870Z",
          "start_time": "2018-06-15T19:16:07.315712Z"
        },
        "id": "HQzNbA5yWX9S",
        "colab_type": "code",
        "colab": {}
      },
      "source": [
        "weather['Date/Time'] = pd.to_datetime(weather['Date/Time'])\n",
        "weather = weather.set_index('Date/Time')"
      ],
      "execution_count": 0,
      "outputs": []
    },
    {
      "cell_type": "code",
      "metadata": {
        "ExecuteTime": {
          "end_time": "2018-06-15T19:16:08.366080Z",
          "start_time": "2018-06-15T19:16:07.814158Z"
        },
        "id": "eYeOHFpjWX9U",
        "colab_type": "code",
        "colab": {}
      },
      "source": [
        "weather['Temp (C)'].plot.line()"
      ],
      "execution_count": 0,
      "outputs": []
    },
    {
      "cell_type": "markdown",
      "metadata": {
        "id": "jM1FleQTWX9Y",
        "colab_type": "text"
      },
      "source": [
        "**Exercise 5**\n",
        "\n",
        "Plot a histogram of wind speeds. Also plot the wind speed versus the time."
      ]
    },
    {
      "cell_type": "code",
      "metadata": {
        "ExecuteTime": {
          "end_time": "2018-06-15T19:16:09.747090Z",
          "start_time": "2018-06-15T19:16:09.744402Z"
        },
        "id": "F2gLyZB4WX9Y",
        "colab_type": "code",
        "colab": {}
      },
      "source": [
        "# Hint: plot.hist(), plot.line()"
      ],
      "execution_count": 0,
      "outputs": []
    },
    {
      "cell_type": "code",
      "metadata": {
        "id": "N7ShdN3dWX9b",
        "colab_type": "code",
        "colab": {
          "base_uri": "https://localhost:8080/",
          "height": 402
        },
        "outputId": "d48e51d0-60ef-4a10-cdcb-87780cb3d87b"
      },
      "source": [
        "plt.figure(dpi=100)\n",
        "weather['Wind Spd (km/h)'].plot.hist();\n",
        "plt.xlabel('Wind Speed')"
      ],
      "execution_count": 46,
      "outputs": [
        {
          "output_type": "execute_result",
          "data": {
            "text/plain": [
              "Text(0.5, 0, 'Wind Speed')"
            ]
          },
          "metadata": {
            "tags": []
          },
          "execution_count": 46
        },
        {
          "output_type": "display_data",
          "data": {
            "image/png": "[encoded data removed]",
            "text/plain": [
              "<Figure size 600x400 with 1 Axes>"
            ]
          },
          "metadata": {
            "tags": []
          }
        }
      ]
    },
    {
      "cell_type": "code",
      "metadata": {
        "id": "g9TiEb21eyLP",
        "colab_type": "code",
        "colab": {
          "base_uri": "https://localhost:8080/",
          "height": 418
        },
        "outputId": "4167c83f-fabb-4a35-ff7e-41b010e110c2"
      },
      "source": [
        "plt.figure(dpi=100)\n",
        "weather['Wind Spd (km/h)'].plot.line();\n",
        "plt.xlabel('Wind Speed')"
      ],
      "execution_count": 48,
      "outputs": [
        {
          "output_type": "execute_result",
          "data": {
            "text/plain": [
              "Text(0.5, 0, 'Wind Speed')"
            ]
          },
          "metadata": {
            "tags": []
          },
          "execution_count": 48
        },
        {
          "output_type": "display_data",
          "data": {
            "image/png": "[encoded data removed]",
            "text/plain": [
              "<Figure size 600x400 with 1 Axes>"
            ]
          },
          "metadata": {
            "tags": []
          }
        }
      ]
    },
    {
      "cell_type": "markdown",
      "metadata": {
        "id": "r5-46iZTWX9h",
        "colab_type": "text"
      },
      "source": [
        "## Exercises"
      ]
    },
    {
      "cell_type": "markdown",
      "metadata": {
        "id": "pgtotYTbWX9h",
        "colab_type": "text"
      },
      "source": [
        "In the data folder, there is a csv that contains the file `auto-mpg.csv`. That data is from here: https://archive.ics.uci.edu/ml/datasets/auto+mpg\n",
        "\n",
        "This contains information about makes/models of cars and their reported fuel efficiency. We'll use that as a baseline for some hands on work with Pandas."
      ]
    },
    {
      "cell_type": "markdown",
      "metadata": {
        "id": "0MJBiEXUWX9h",
        "colab_type": "text"
      },
      "source": [
        "### Challenge 1: Load the file into a Pandas dataframe, then print the top 5 rows\n",
        "\n",
        "Store this dataframe in a variable called `autos`"
      ]
    },
    {
      "cell_type": "code",
      "metadata": {
        "id": "vk5M9qlSWX9i",
        "colab_type": "code",
        "colab": {
          "base_uri": "https://localhost:8080/",
          "height": 204
        },
        "outputId": "36b89b6b-0a96-4ffc-c3fe-21dd89125e57"
      },
      "source": [
        "# hint: look for the raw data file's link\n",
        "names = ['mpg','cylinders','displacement','horsepower','weight','accelaration','model year','origin','car name']\n",
        "autos = pd.read_csv('https://raw.githubusercontent.com/ultimatist/DDS/master/data/auto-mpg.csv')#,names=names,usecols=None)\n",
        "autos.head()\n",
        "\n"
      ],
      "execution_count": 63,
      "outputs": [
        {
          "output_type": "execute_result",
          "data": {
            "text/html": [
              "<div>\n",
              "<style scoped>\n",
              "    .dataframe tbody tr th:only-of-type {\n",
              "        vertical-align: middle;\n",
              "    }\n",
              "\n",
              "    .dataframe tbody tr th {\n",
              "        vertical-align: top;\n",
              "    }\n",
              "\n",
              "    .dataframe thead th {\n",
              "        text-align: right;\n",
              "    }\n",
              "</style>\n",
              "<table border=\"1\" class=\"dataframe\">\n",
              "  <thead>\n",
              "    <tr style=\"text-align: right;\">\n",
              "      <th></th>\n",
              "      <th>mpg</th>\n",
              "      <th>cylinders</th>\n",
              "      <th>displacement</th>\n",
              "      <th>horsepower</th>\n",
              "      <th>weight</th>\n",
              "      <th>acceleration</th>\n",
              "      <th>model_year</th>\n",
              "      <th>origin</th>\n",
              "      <th>car_name</th>\n",
              "    </tr>\n",
              "  </thead>\n",
              "  <tbody>\n",
              "    <tr>\n",
              "      <th>0</th>\n",
              "      <td>18.0</td>\n",
              "      <td>8</td>\n",
              "      <td>307.0</td>\n",
              "      <td>130.0</td>\n",
              "      <td>3504</td>\n",
              "      <td>12.0</td>\n",
              "      <td>70</td>\n",
              "      <td>1</td>\n",
              "      <td>chevrolet,chevelle,malibu</td>\n",
              "    </tr>\n",
              "    <tr>\n",
              "      <th>1</th>\n",
              "      <td>15.0</td>\n",
              "      <td>8</td>\n",
              "      <td>350.0</td>\n",
              "      <td>165.0</td>\n",
              "      <td>3693</td>\n",
              "      <td>11.5</td>\n",
              "      <td>70</td>\n",
              "      <td>1</td>\n",
              "      <td>buick,skylark,320</td>\n",
              "    </tr>\n",
              "    <tr>\n",
              "      <th>2</th>\n",
              "      <td>18.0</td>\n",
              "      <td>8</td>\n",
              "      <td>318.0</td>\n",
              "      <td>150.0</td>\n",
              "      <td>3436</td>\n",
              "      <td>11.0</td>\n",
              "      <td>70</td>\n",
              "      <td>1</td>\n",
              "      <td>plymouth,satellite</td>\n",
              "    </tr>\n",
              "    <tr>\n",
              "      <th>3</th>\n",
              "      <td>16.0</td>\n",
              "      <td>8</td>\n",
              "      <td>304.0</td>\n",
              "      <td>150.0</td>\n",
              "      <td>3433</td>\n",
              "      <td>12.0</td>\n",
              "      <td>70</td>\n",
              "      <td>1</td>\n",
              "      <td>amc,rebel,sst</td>\n",
              "    </tr>\n",
              "    <tr>\n",
              "      <th>4</th>\n",
              "      <td>17.0</td>\n",
              "      <td>8</td>\n",
              "      <td>302.0</td>\n",
              "      <td>140.0</td>\n",
              "      <td>3449</td>\n",
              "      <td>10.5</td>\n",
              "      <td>70</td>\n",
              "      <td>1</td>\n",
              "      <td>ford,torino</td>\n",
              "    </tr>\n",
              "  </tbody>\n",
              "</table>\n",
              "</div>"
            ],
            "text/plain": [
              "    mpg  cylinders  displacement  ...  model_year  origin                   car_name\n",
              "0  18.0          8         307.0  ...          70       1  chevrolet,chevelle,malibu\n",
              "1  15.0          8         350.0  ...          70       1          buick,skylark,320\n",
              "2  18.0          8         318.0  ...          70       1         plymouth,satellite\n",
              "3  16.0          8         304.0  ...          70       1              amc,rebel,sst\n",
              "4  17.0          8         302.0  ...          70       1                ford,torino\n",
              "\n",
              "[5 rows x 9 columns]"
            ]
          },
          "metadata": {
            "tags": []
          },
          "execution_count": 63
        }
      ]
    },
    {
      "cell_type": "markdown",
      "metadata": {
        "id": "rkjJoeqZWX9j",
        "colab_type": "text"
      },
      "source": [
        "### Challenge 2: Find the mean weight and the mean mpg in the dataset as a whole. Now find those for all vehicles with model_year equal to 77"
      ]
    },
    {
      "cell_type": "code",
      "metadata": {
        "id": "vT6SG0ywWX9j",
        "colab_type": "code",
        "colab": {
          "base_uri": "https://localhost:8080/",
          "height": 34
        },
        "outputId": "a0baa014-838b-427d-cda5-d9a251576f40"
      },
      "source": [
        "print(autos['mpg'].mean())\n"
      ],
      "execution_count": 65,
      "outputs": [
        {
          "output_type": "stream",
          "text": [
            "23.44591836734694\n"
          ],
          "name": "stdout"
        }
      ]
    },
    {
      "cell_type": "code",
      "metadata": {
        "id": "z-_U4216izKZ",
        "colab_type": "code",
        "colab": {
          "base_uri": "https://localhost:8080/",
          "height": 34
        },
        "outputId": "af775517-802a-4a88-eaa1-d5354f06ffcc"
      },
      "source": [
        "print(autos['weight'].mean())"
      ],
      "execution_count": 66,
      "outputs": [
        {
          "output_type": "stream",
          "text": [
            "2977.5841836734694\n"
          ],
          "name": "stdout"
        }
      ]
    },
    {
      "cell_type": "code",
      "metadata": {
        "id": "JqV23mKti4By",
        "colab_type": "code",
        "colab": {
          "base_uri": "https://localhost:8080/",
          "height": 34
        },
        "outputId": "66b6d0eb-6db0-4fda-dbef-4191549be96e"
      },
      "source": [
        "autos[autos['model_year']==77]['mpg'].mean()"
      ],
      "execution_count": 67,
      "outputs": [
        {
          "output_type": "execute_result",
          "data": {
            "text/plain": [
              "23.375"
            ]
          },
          "metadata": {
            "tags": []
          },
          "execution_count": 67
        }
      ]
    },
    {
      "cell_type": "code",
      "metadata": {
        "id": "UT9xTwSYjK8S",
        "colab_type": "code",
        "colab": {
          "base_uri": "https://localhost:8080/",
          "height": 34
        },
        "outputId": "d3d412a4-ccbd-4e4a-931c-9ceed3a7d420"
      },
      "source": [
        "autos[autos['model_year']==77]['weight'].mean()"
      ],
      "execution_count": 68,
      "outputs": [
        {
          "output_type": "execute_result",
          "data": {
            "text/plain": [
              "2997.3571428571427"
            ]
          },
          "metadata": {
            "tags": []
          },
          "execution_count": 68
        }
      ]
    },
    {
      "cell_type": "markdown",
      "metadata": {
        "id": "t9HIgUrAWX9l",
        "colab_type": "text"
      },
      "source": [
        "### Challenge 3: Create a column that is horsepower per cylinder"
      ]
    },
    {
      "cell_type": "code",
      "metadata": {
        "id": "qhJRphFaWX9l",
        "colab_type": "code",
        "colab": {}
      },
      "source": [
        "# hint: there are multiple solutions, can you find more than one?"
      ],
      "execution_count": 0,
      "outputs": []
    },
    {
      "cell_type": "code",
      "metadata": {
        "id": "Lkw2O84Bjjyb",
        "colab_type": "code",
        "colab": {}
      },
      "source": [
        "autos['HP/cylinder'] = autos['horsepower']/autos['cylinders']"
      ],
      "execution_count": 0,
      "outputs": []
    },
    {
      "cell_type": "code",
      "metadata": {
        "id": "e3fOjybSjxU4",
        "colab_type": "code",
        "colab": {
          "base_uri": "https://localhost:8080/",
          "height": 204
        },
        "outputId": "f5fcf343-5f5a-4992-fc81-e2a8f36c0ff8"
      },
      "source": [
        "autos.head()"
      ],
      "execution_count": 70,
      "outputs": [
        {
          "output_type": "execute_result",
          "data": {
            "text/html": [
              "<div>\n",
              "<style scoped>\n",
              "    .dataframe tbody tr th:only-of-type {\n",
              "        vertical-align: middle;\n",
              "    }\n",
              "\n",
              "    .dataframe tbody tr th {\n",
              "        vertical-align: top;\n",
              "    }\n",
              "\n",
              "    .dataframe thead th {\n",
              "        text-align: right;\n",
              "    }\n",
              "</style>\n",
              "<table border=\"1\" class=\"dataframe\">\n",
              "  <thead>\n",
              "    <tr style=\"text-align: right;\">\n",
              "      <th></th>\n",
              "      <th>mpg</th>\n",
              "      <th>cylinders</th>\n",
              "      <th>displacement</th>\n",
              "      <th>horsepower</th>\n",
              "      <th>weight</th>\n",
              "      <th>acceleration</th>\n",
              "      <th>model_year</th>\n",
              "      <th>origin</th>\n",
              "      <th>car_name</th>\n",
              "      <th>HP/cylinder</th>\n",
              "    </tr>\n",
              "  </thead>\n",
              "  <tbody>\n",
              "    <tr>\n",
              "      <th>0</th>\n",
              "      <td>18.0</td>\n",
              "      <td>8</td>\n",
              "      <td>307.0</td>\n",
              "      <td>130.0</td>\n",
              "      <td>3504</td>\n",
              "      <td>12.0</td>\n",
              "      <td>70</td>\n",
              "      <td>1</td>\n",
              "      <td>chevrolet,chevelle,malibu</td>\n",
              "      <td>16.250</td>\n",
              "    </tr>\n",
              "    <tr>\n",
              "      <th>1</th>\n",
              "      <td>15.0</td>\n",
              "      <td>8</td>\n",
              "      <td>350.0</td>\n",
              "      <td>165.0</td>\n",
              "      <td>3693</td>\n",
              "      <td>11.5</td>\n",
              "      <td>70</td>\n",
              "      <td>1</td>\n",
              "      <td>buick,skylark,320</td>\n",
              "      <td>20.625</td>\n",
              "    </tr>\n",
              "    <tr>\n",
              "      <th>2</th>\n",
              "      <td>18.0</td>\n",
              "      <td>8</td>\n",
              "      <td>318.0</td>\n",
              "      <td>150.0</td>\n",
              "      <td>3436</td>\n",
              "      <td>11.0</td>\n",
              "      <td>70</td>\n",
              "      <td>1</td>\n",
              "      <td>plymouth,satellite</td>\n",
              "      <td>18.750</td>\n",
              "    </tr>\n",
              "    <tr>\n",
              "      <th>3</th>\n",
              "      <td>16.0</td>\n",
              "      <td>8</td>\n",
              "      <td>304.0</td>\n",
              "      <td>150.0</td>\n",
              "      <td>3433</td>\n",
              "      <td>12.0</td>\n",
              "      <td>70</td>\n",
              "      <td>1</td>\n",
              "      <td>amc,rebel,sst</td>\n",
              "      <td>18.750</td>\n",
              "    </tr>\n",
              "    <tr>\n",
              "      <th>4</th>\n",
              "      <td>17.0</td>\n",
              "      <td>8</td>\n",
              "      <td>302.0</td>\n",
              "      <td>140.0</td>\n",
              "      <td>3449</td>\n",
              "      <td>10.5</td>\n",
              "      <td>70</td>\n",
              "      <td>1</td>\n",
              "      <td>ford,torino</td>\n",
              "      <td>17.500</td>\n",
              "    </tr>\n",
              "  </tbody>\n",
              "</table>\n",
              "</div>"
            ],
            "text/plain": [
              "    mpg  cylinders  ...                   car_name  HP/cylinder\n",
              "0  18.0          8  ...  chevrolet,chevelle,malibu       16.250\n",
              "1  15.0          8  ...          buick,skylark,320       20.625\n",
              "2  18.0          8  ...         plymouth,satellite       18.750\n",
              "3  16.0          8  ...              amc,rebel,sst       18.750\n",
              "4  17.0          8  ...                ford,torino       17.500\n",
              "\n",
              "[5 rows x 10 columns]"
            ]
          },
          "metadata": {
            "tags": []
          },
          "execution_count": 70
        }
      ]
    },
    {
      "cell_type": "markdown",
      "metadata": {
        "id": "YI5nXelqWX9n",
        "colab_type": "text"
      },
      "source": [
        "### Challenge 4: Make two histograms, one of hp_per_cylinder and one of horsepower. "
      ]
    },
    {
      "cell_type": "code",
      "metadata": {
        "id": "kpQZ6X93WX9n",
        "colab_type": "code",
        "colab": {
          "base_uri": "https://localhost:8080/",
          "height": 300
        },
        "outputId": "0c095694-05a5-4bd9-afa5-d21eab79d475"
      },
      "source": [
        "# hp_per_cylinder\n",
        "autos['HP/cylinder'].plot.hist();\n",
        "plt.xlabel('HP/cylinder')"
      ],
      "execution_count": 75,
      "outputs": [
        {
          "output_type": "execute_result",
          "data": {
            "text/plain": [
              "Text(0.5, 0, 'HP/cylinder')"
            ]
          },
          "metadata": {
            "tags": []
          },
          "execution_count": 75
        },
        {
          "output_type": "display_data",
          "data": {
            "image/png": "[encoded data removed]",
            "text/plain": [
              "<Figure size 432x288 with 1 Axes>"
            ]
          },
          "metadata": {
            "tags": []
          }
        }
      ]
    },
    {
      "cell_type": "code",
      "metadata": {
        "id": "BR2aqDZWkkZ8",
        "colab_type": "code",
        "colab": {
          "base_uri": "https://localhost:8080/",
          "height": 300
        },
        "outputId": "158fabe6-51f7-46f6-bc24-78cc934cd26f"
      },
      "source": [
        "autos['HP/cylinder'].plot.line();\n",
        "plt.xlabel('HP/cylinder')"
      ],
      "execution_count": 77,
      "outputs": [
        {
          "output_type": "execute_result",
          "data": {
            "text/plain": [
              "Text(0.5, 0, 'HP/cylinder')"
            ]
          },
          "metadata": {
            "tags": []
          },
          "execution_count": 77
        },
        {
          "output_type": "display_data",
          "data": {
            "image/png": "[encoded data removed]",
            "text/plain": [
              "<Figure size 432x288 with 1 Axes>"
            ]
          },
          "metadata": {
            "tags": []
          }
        }
      ]
    },
    {
      "cell_type": "code",
      "metadata": {
        "id": "lPjAnc7rkLaK",
        "colab_type": "code",
        "colab": {
          "base_uri": "https://localhost:8080/",
          "height": 300
        },
        "outputId": "fbd37faf-dcde-4500-e63b-abd151061469"
      },
      "source": [
        "autos['horsepower'].plot.hist();\n",
        "plt.xlabel('HP')"
      ],
      "execution_count": 76,
      "outputs": [
        {
          "output_type": "execute_result",
          "data": {
            "text/plain": [
              "Text(0.5, 0, 'HP')"
            ]
          },
          "metadata": {
            "tags": []
          },
          "execution_count": 76
        },
        {
          "output_type": "display_data",
          "data": {
            "image/png": "[encoded data removed]",
            "text/plain": [
              "<Figure size 432x288 with 1 Axes>"
            ]
          },
          "metadata": {
            "tags": []
          }
        }
      ]
    },
    {
      "cell_type": "code",
      "metadata": {
        "id": "OIZMDVDMkvrM",
        "colab_type": "code",
        "colab": {
          "base_uri": "https://localhost:8080/",
          "height": 300
        },
        "outputId": "639ea953-4789-4f1b-d4b1-cb24274bd46c"
      },
      "source": [
        "autos['horsepower'].plot.line();\n",
        "plt.xlabel('HP')"
      ],
      "execution_count": 78,
      "outputs": [
        {
          "output_type": "execute_result",
          "data": {
            "text/plain": [
              "Text(0.5, 0, 'HP')"
            ]
          },
          "metadata": {
            "tags": []
          },
          "execution_count": 78
        },
        {
          "output_type": "display_data",
          "data": {
            "image/png": "[encoded data removed]",
            "text/plain": [
              "<Figure size 432x288 with 1 Axes>"
            ]
          },
          "metadata": {
            "tags": []
          }
        }
      ]
    },
    {
      "cell_type": "code",
      "metadata": {
        "id": "xsTMhepDWX9o",
        "colab_type": "code",
        "colab": {}
      },
      "source": [
        "# horsepower"
      ],
      "execution_count": 0,
      "outputs": []
    },
    {
      "cell_type": "markdown",
      "metadata": {
        "id": "t9UYau292rCH",
        "colab_type": "text"
      },
      "source": [
        "# Where to go from here?\n",
        "\n",
        "We hope you see the power of Pandas and how it can apply to your analytics and data science projects! Here are some other great resources:\n",
        "\n",
        "- [10 Minutes to pandas](http://pandas.pydata.org/pandas-docs/stable/getting_started/10min.html)  *-- Official beginner guide*\n",
        "- [Python Pandas Tutorial](https://www.tutorialspoint.com/python_pandas/) *-- TutorialPoint tutorial*\n",
        "- [A Complete Introduction for Beginners](https://www.learndatasci.com/tutorials/python-pandas-tutorial-complete-introduction-for-beginners/)   *-- LearnDataSci guide*\n",
        "\n",
        "<br>\n",
        "\n",
        "Thanks for joining us today; enjoy exploring the power of Pandas!\n",
        "\n",
        "<br>"
      ]
    },
    {
      "cell_type": "code",
      "metadata": {
        "id": "h-XOW_pL3Yh_",
        "colab_type": "code",
        "colab": {}
      },
      "source": [
        ""
      ],
      "execution_count": 0,
      "outputs": []
    }
  ]
}